{
  "cells": [
    {
      "cell_type": "markdown",
      "metadata": {
        "id": "view-in-github",
        "colab_type": "text"
      },
      "source": [
        "<a href=\"https://colab.research.google.com/github/seetaram-oruganti/Credit-Card-Fraud-detection/blob/main/MLP_with_outliers_replaced_mean_and_with_data_balancing.ipynb\" target=\"_parent\"><img src=\"https://colab.research.google.com/assets/colab-badge.svg\" alt=\"Open In Colab\"/></a>"
      ]
    },
    {
      "cell_type": "code",
      "source": [
        "from google.colab import drive\n",
        "drive.mount('/content/drive')"
      ],
      "metadata": {
        "id": "7wkRsFA3i_fv",
        "outputId": "029f585a-94a8-4a53-fcf4-f5d625496783",
        "colab": {
          "base_uri": "https://localhost:8080/"
        }
      },
      "execution_count": 56,
      "outputs": [
        {
          "output_type": "stream",
          "name": "stdout",
          "text": [
            "Drive already mounted at /content/drive; to attempt to forcibly remount, call drive.mount(\"/content/drive\", force_remount=True).\n"
          ]
        }
      ]
    },
    {
      "cell_type": "markdown",
      "source": [
        "# ***Exploratory data analysis***"
      ],
      "metadata": {
        "id": "mQK3-5mok0-y"
      }
    },
    {
      "cell_type": "code",
      "source": [
        "import numpy as np # linear algebra\n",
        "import pandas as pd # data processing, CSV file I/O (e.g. pd.read_csv)\n",
        "import tensorflow as tf\n",
        "import matplotlib.pyplot as plt\n",
        "import seaborn as sns\n",
        "from sklearn.metrics import confusion_matrix\n",
        "from sklearn.manifold import TSNE\n",
        "from sklearn.decomposition import PCA, TruncatedSVD\n",
        "import matplotlib.patches as mpatches\n",
        "import time\n",
        "\n",
        "# Classifier Libraries\n",
        "from sklearn.linear_model import LogisticRegression\n",
        "from sklearn.svm import SVC\n",
        "from sklearn.neighbors import KNeighborsClassifier\n",
        "from sklearn.tree import DecisionTreeClassifier\n",
        "from sklearn.ensemble import RandomForestClassifier\n",
        "import collections\n",
        "\n",
        "\n",
        "# Other Libraries\n",
        "from sklearn.model_selection import train_test_split\n",
        "from sklearn.pipeline import make_pipeline\n",
        "\n",
        "from sklearn.metrics import precision_score, recall_score, f1_score, roc_auc_score, accuracy_score, classification_report\n",
        "from collections import Counter\n",
        "from sklearn.model_selection import KFold, StratifiedKFold\n",
        "import imblearn\n",
        "import warnings\n",
        "warnings.filterwarnings(\"ignore\")\n",
        "\n",
        "\n",
        "df = pd.read_csv('/content/drive/MyDrive/creditcard.csv')\n",
        "df.head()\n"
      ],
      "metadata": {
        "id": "sjRXypwBk0PI",
        "outputId": "63aa3037-8121-4697-e544-d198ffa6901d",
        "colab": {
          "base_uri": "https://localhost:8080/",
          "height": 299
        }
      },
      "execution_count": 57,
      "outputs": [
        {
          "output_type": "execute_result",
          "data": {
            "text/plain": [
              "   Time        V1        V2        V3        V4        V5        V6        V7  \\\n",
              "0   0.0 -1.359807 -0.072781  2.536347  1.378155 -0.338321  0.462388  0.239599   \n",
              "1   0.0  1.191857  0.266151  0.166480  0.448154  0.060018 -0.082361 -0.078803   \n",
              "2   1.0 -1.358354 -1.340163  1.773209  0.379780 -0.503198  1.800499  0.791461   \n",
              "3   1.0 -0.966272 -0.185226  1.792993 -0.863291 -0.010309  1.247203  0.237609   \n",
              "4   2.0 -1.158233  0.877737  1.548718  0.403034 -0.407193  0.095921  0.592941   \n",
              "\n",
              "         V8        V9  ...       V21       V22       V23       V24       V25  \\\n",
              "0  0.098698  0.363787  ... -0.018307  0.277838 -0.110474  0.066928  0.128539   \n",
              "1  0.085102 -0.255425  ... -0.225775 -0.638672  0.101288 -0.339846  0.167170   \n",
              "2  0.247676 -1.514654  ...  0.247998  0.771679  0.909412 -0.689281 -0.327642   \n",
              "3  0.377436 -1.387024  ... -0.108300  0.005274 -0.190321 -1.175575  0.647376   \n",
              "4 -0.270533  0.817739  ... -0.009431  0.798278 -0.137458  0.141267 -0.206010   \n",
              "\n",
              "        V26       V27       V28  Amount  Class  \n",
              "0 -0.189115  0.133558 -0.021053  149.62      0  \n",
              "1  0.125895 -0.008983  0.014724    2.69      0  \n",
              "2 -0.139097 -0.055353 -0.059752  378.66      0  \n",
              "3 -0.221929  0.062723  0.061458  123.50      0  \n",
              "4  0.502292  0.219422  0.215153   69.99      0  \n",
              "\n",
              "[5 rows x 31 columns]"
            ],
            "text/html": [
              "\n",
              "  <div id=\"df-05d7821f-b1d6-4d77-9c54-f817611cff67\">\n",
              "    <div class=\"colab-df-container\">\n",
              "      <div>\n",
              "<style scoped>\n",
              "    .dataframe tbody tr th:only-of-type {\n",
              "        vertical-align: middle;\n",
              "    }\n",
              "\n",
              "    .dataframe tbody tr th {\n",
              "        vertical-align: top;\n",
              "    }\n",
              "\n",
              "    .dataframe thead th {\n",
              "        text-align: right;\n",
              "    }\n",
              "</style>\n",
              "<table border=\"1\" class=\"dataframe\">\n",
              "  <thead>\n",
              "    <tr style=\"text-align: right;\">\n",
              "      <th></th>\n",
              "      <th>Time</th>\n",
              "      <th>V1</th>\n",
              "      <th>V2</th>\n",
              "      <th>V3</th>\n",
              "      <th>V4</th>\n",
              "      <th>V5</th>\n",
              "      <th>V6</th>\n",
              "      <th>V7</th>\n",
              "      <th>V8</th>\n",
              "      <th>V9</th>\n",
              "      <th>...</th>\n",
              "      <th>V21</th>\n",
              "      <th>V22</th>\n",
              "      <th>V23</th>\n",
              "      <th>V24</th>\n",
              "      <th>V25</th>\n",
              "      <th>V26</th>\n",
              "      <th>V27</th>\n",
              "      <th>V28</th>\n",
              "      <th>Amount</th>\n",
              "      <th>Class</th>\n",
              "    </tr>\n",
              "  </thead>\n",
              "  <tbody>\n",
              "    <tr>\n",
              "      <th>0</th>\n",
              "      <td>0.0</td>\n",
              "      <td>-1.359807</td>\n",
              "      <td>-0.072781</td>\n",
              "      <td>2.536347</td>\n",
              "      <td>1.378155</td>\n",
              "      <td>-0.338321</td>\n",
              "      <td>0.462388</td>\n",
              "      <td>0.239599</td>\n",
              "      <td>0.098698</td>\n",
              "      <td>0.363787</td>\n",
              "      <td>...</td>\n",
              "      <td>-0.018307</td>\n",
              "      <td>0.277838</td>\n",
              "      <td>-0.110474</td>\n",
              "      <td>0.066928</td>\n",
              "      <td>0.128539</td>\n",
              "      <td>-0.189115</td>\n",
              "      <td>0.133558</td>\n",
              "      <td>-0.021053</td>\n",
              "      <td>149.62</td>\n",
              "      <td>0</td>\n",
              "    </tr>\n",
              "    <tr>\n",
              "      <th>1</th>\n",
              "      <td>0.0</td>\n",
              "      <td>1.191857</td>\n",
              "      <td>0.266151</td>\n",
              "      <td>0.166480</td>\n",
              "      <td>0.448154</td>\n",
              "      <td>0.060018</td>\n",
              "      <td>-0.082361</td>\n",
              "      <td>-0.078803</td>\n",
              "      <td>0.085102</td>\n",
              "      <td>-0.255425</td>\n",
              "      <td>...</td>\n",
              "      <td>-0.225775</td>\n",
              "      <td>-0.638672</td>\n",
              "      <td>0.101288</td>\n",
              "      <td>-0.339846</td>\n",
              "      <td>0.167170</td>\n",
              "      <td>0.125895</td>\n",
              "      <td>-0.008983</td>\n",
              "      <td>0.014724</td>\n",
              "      <td>2.69</td>\n",
              "      <td>0</td>\n",
              "    </tr>\n",
              "    <tr>\n",
              "      <th>2</th>\n",
              "      <td>1.0</td>\n",
              "      <td>-1.358354</td>\n",
              "      <td>-1.340163</td>\n",
              "      <td>1.773209</td>\n",
              "      <td>0.379780</td>\n",
              "      <td>-0.503198</td>\n",
              "      <td>1.800499</td>\n",
              "      <td>0.791461</td>\n",
              "      <td>0.247676</td>\n",
              "      <td>-1.514654</td>\n",
              "      <td>...</td>\n",
              "      <td>0.247998</td>\n",
              "      <td>0.771679</td>\n",
              "      <td>0.909412</td>\n",
              "      <td>-0.689281</td>\n",
              "      <td>-0.327642</td>\n",
              "      <td>-0.139097</td>\n",
              "      <td>-0.055353</td>\n",
              "      <td>-0.059752</td>\n",
              "      <td>378.66</td>\n",
              "      <td>0</td>\n",
              "    </tr>\n",
              "    <tr>\n",
              "      <th>3</th>\n",
              "      <td>1.0</td>\n",
              "      <td>-0.966272</td>\n",
              "      <td>-0.185226</td>\n",
              "      <td>1.792993</td>\n",
              "      <td>-0.863291</td>\n",
              "      <td>-0.010309</td>\n",
              "      <td>1.247203</td>\n",
              "      <td>0.237609</td>\n",
              "      <td>0.377436</td>\n",
              "      <td>-1.387024</td>\n",
              "      <td>...</td>\n",
              "      <td>-0.108300</td>\n",
              "      <td>0.005274</td>\n",
              "      <td>-0.190321</td>\n",
              "      <td>-1.175575</td>\n",
              "      <td>0.647376</td>\n",
              "      <td>-0.221929</td>\n",
              "      <td>0.062723</td>\n",
              "      <td>0.061458</td>\n",
              "      <td>123.50</td>\n",
              "      <td>0</td>\n",
              "    </tr>\n",
              "    <tr>\n",
              "      <th>4</th>\n",
              "      <td>2.0</td>\n",
              "      <td>-1.158233</td>\n",
              "      <td>0.877737</td>\n",
              "      <td>1.548718</td>\n",
              "      <td>0.403034</td>\n",
              "      <td>-0.407193</td>\n",
              "      <td>0.095921</td>\n",
              "      <td>0.592941</td>\n",
              "      <td>-0.270533</td>\n",
              "      <td>0.817739</td>\n",
              "      <td>...</td>\n",
              "      <td>-0.009431</td>\n",
              "      <td>0.798278</td>\n",
              "      <td>-0.137458</td>\n",
              "      <td>0.141267</td>\n",
              "      <td>-0.206010</td>\n",
              "      <td>0.502292</td>\n",
              "      <td>0.219422</td>\n",
              "      <td>0.215153</td>\n",
              "      <td>69.99</td>\n",
              "      <td>0</td>\n",
              "    </tr>\n",
              "  </tbody>\n",
              "</table>\n",
              "<p>5 rows × 31 columns</p>\n",
              "</div>\n",
              "      <button class=\"colab-df-convert\" onclick=\"convertToInteractive('df-05d7821f-b1d6-4d77-9c54-f817611cff67')\"\n",
              "              title=\"Convert this dataframe to an interactive table.\"\n",
              "              style=\"display:none;\">\n",
              "        \n",
              "  <svg xmlns=\"http://www.w3.org/2000/svg\" height=\"24px\"viewBox=\"0 0 24 24\"\n",
              "       width=\"24px\">\n",
              "    <path d=\"M0 0h24v24H0V0z\" fill=\"none\"/>\n",
              "    <path d=\"M18.56 5.44l.94 2.06.94-2.06 2.06-.94-2.06-.94-.94-2.06-.94 2.06-2.06.94zm-11 1L8.5 8.5l.94-2.06 2.06-.94-2.06-.94L8.5 2.5l-.94 2.06-2.06.94zm10 10l.94 2.06.94-2.06 2.06-.94-2.06-.94-.94-2.06-.94 2.06-2.06.94z\"/><path d=\"M17.41 7.96l-1.37-1.37c-.4-.4-.92-.59-1.43-.59-.52 0-1.04.2-1.43.59L10.3 9.45l-7.72 7.72c-.78.78-.78 2.05 0 2.83L4 21.41c.39.39.9.59 1.41.59.51 0 1.02-.2 1.41-.59l7.78-7.78 2.81-2.81c.8-.78.8-2.07 0-2.86zM5.41 20L4 18.59l7.72-7.72 1.47 1.35L5.41 20z\"/>\n",
              "  </svg>\n",
              "      </button>\n",
              "      \n",
              "  <style>\n",
              "    .colab-df-container {\n",
              "      display:flex;\n",
              "      flex-wrap:wrap;\n",
              "      gap: 12px;\n",
              "    }\n",
              "\n",
              "    .colab-df-convert {\n",
              "      background-color: #E8F0FE;\n",
              "      border: none;\n",
              "      border-radius: 50%;\n",
              "      cursor: pointer;\n",
              "      display: none;\n",
              "      fill: #1967D2;\n",
              "      height: 32px;\n",
              "      padding: 0 0 0 0;\n",
              "      width: 32px;\n",
              "    }\n",
              "\n",
              "    .colab-df-convert:hover {\n",
              "      background-color: #E2EBFA;\n",
              "      box-shadow: 0px 1px 2px rgba(60, 64, 67, 0.3), 0px 1px 3px 1px rgba(60, 64, 67, 0.15);\n",
              "      fill: #174EA6;\n",
              "    }\n",
              "\n",
              "    [theme=dark] .colab-df-convert {\n",
              "      background-color: #3B4455;\n",
              "      fill: #D2E3FC;\n",
              "    }\n",
              "\n",
              "    [theme=dark] .colab-df-convert:hover {\n",
              "      background-color: #434B5C;\n",
              "      box-shadow: 0px 1px 3px 1px rgba(0, 0, 0, 0.15);\n",
              "      filter: drop-shadow(0px 1px 2px rgba(0, 0, 0, 0.3));\n",
              "      fill: #FFFFFF;\n",
              "    }\n",
              "  </style>\n",
              "\n",
              "      <script>\n",
              "        const buttonEl =\n",
              "          document.querySelector('#df-05d7821f-b1d6-4d77-9c54-f817611cff67 button.colab-df-convert');\n",
              "        buttonEl.style.display =\n",
              "          google.colab.kernel.accessAllowed ? 'block' : 'none';\n",
              "\n",
              "        async function convertToInteractive(key) {\n",
              "          const element = document.querySelector('#df-05d7821f-b1d6-4d77-9c54-f817611cff67');\n",
              "          const dataTable =\n",
              "            await google.colab.kernel.invokeFunction('convertToInteractive',\n",
              "                                                     [key], {});\n",
              "          if (!dataTable) return;\n",
              "\n",
              "          const docLinkHtml = 'Like what you see? Visit the ' +\n",
              "            '<a target=\"_blank\" href=https://colab.research.google.com/notebooks/data_table.ipynb>data table notebook</a>'\n",
              "            + ' to learn more about interactive tables.';\n",
              "          element.innerHTML = '';\n",
              "          dataTable['output_type'] = 'display_data';\n",
              "          await google.colab.output.renderOutput(dataTable, element);\n",
              "          const docLink = document.createElement('div');\n",
              "          docLink.innerHTML = docLinkHtml;\n",
              "          element.appendChild(docLink);\n",
              "        }\n",
              "      </script>\n",
              "    </div>\n",
              "  </div>\n",
              "  "
            ]
          },
          "metadata": {},
          "execution_count": 57
        }
      ]
    },
    {
      "cell_type": "code",
      "source": [
        "df.info()"
      ],
      "metadata": {
        "id": "TiP3KGYdliMx",
        "outputId": "eeed0d64-f411-4d4e-a3c7-88a6836efdd7",
        "colab": {
          "base_uri": "https://localhost:8080/"
        }
      },
      "execution_count": 58,
      "outputs": [
        {
          "output_type": "stream",
          "name": "stdout",
          "text": [
            "<class 'pandas.core.frame.DataFrame'>\n",
            "RangeIndex: 284807 entries, 0 to 284806\n",
            "Data columns (total 31 columns):\n",
            " #   Column  Non-Null Count   Dtype  \n",
            "---  ------  --------------   -----  \n",
            " 0   Time    284807 non-null  float64\n",
            " 1   V1      284807 non-null  float64\n",
            " 2   V2      284807 non-null  float64\n",
            " 3   V3      284807 non-null  float64\n",
            " 4   V4      284807 non-null  float64\n",
            " 5   V5      284807 non-null  float64\n",
            " 6   V6      284807 non-null  float64\n",
            " 7   V7      284807 non-null  float64\n",
            " 8   V8      284807 non-null  float64\n",
            " 9   V9      284807 non-null  float64\n",
            " 10  V10     284807 non-null  float64\n",
            " 11  V11     284807 non-null  float64\n",
            " 12  V12     284807 non-null  float64\n",
            " 13  V13     284807 non-null  float64\n",
            " 14  V14     284807 non-null  float64\n",
            " 15  V15     284807 non-null  float64\n",
            " 16  V16     284807 non-null  float64\n",
            " 17  V17     284807 non-null  float64\n",
            " 18  V18     284807 non-null  float64\n",
            " 19  V19     284807 non-null  float64\n",
            " 20  V20     284807 non-null  float64\n",
            " 21  V21     284807 non-null  float64\n",
            " 22  V22     284807 non-null  float64\n",
            " 23  V23     284807 non-null  float64\n",
            " 24  V24     284807 non-null  float64\n",
            " 25  V25     284807 non-null  float64\n",
            " 26  V26     284807 non-null  float64\n",
            " 27  V27     284807 non-null  float64\n",
            " 28  V28     284807 non-null  float64\n",
            " 29  Amount  284807 non-null  float64\n",
            " 30  Class   284807 non-null  int64  \n",
            "dtypes: float64(30), int64(1)\n",
            "memory usage: 67.4 MB\n"
          ]
        }
      ]
    },
    {
      "cell_type": "code",
      "source": [
        "df.shape"
      ],
      "metadata": {
        "id": "Ri2Mtk_ellOr",
        "outputId": "3521f7b5-f729-437a-a381-41b4f7551aa9",
        "colab": {
          "base_uri": "https://localhost:8080/"
        }
      },
      "execution_count": 59,
      "outputs": [
        {
          "output_type": "execute_result",
          "data": {
            "text/plain": [
              "(284807, 31)"
            ]
          },
          "metadata": {},
          "execution_count": 59
        }
      ]
    },
    {
      "cell_type": "code",
      "source": [
        "print('No Frauds', round(df['Class'].value_counts()[0]/len(df) * 100,2), '% of the dataset')\n",
        "print('Frauds', round(df['Class'].value_counts()[1]/len(df) * 100,2), '% of the dataset')"
      ],
      "metadata": {
        "id": "ELwx3HtvlowE",
        "outputId": "91abfaf0-54e8-4376-db87-49e59c2c3db1",
        "colab": {
          "base_uri": "https://localhost:8080/"
        }
      },
      "execution_count": 60,
      "outputs": [
        {
          "output_type": "stream",
          "name": "stdout",
          "text": [
            "No Frauds 99.83 % of the dataset\n",
            "Frauds 0.17 % of the dataset\n"
          ]
        }
      ]
    },
    {
      "cell_type": "code",
      "source": [
        "df['Class'].value_counts()"
      ],
      "metadata": {
        "id": "xmW-bz_jlr13",
        "outputId": "994c0816-101b-4c09-cf54-9c702206939b",
        "colab": {
          "base_uri": "https://localhost:8080/"
        }
      },
      "execution_count": 61,
      "outputs": [
        {
          "output_type": "execute_result",
          "data": {
            "text/plain": [
              "0    284315\n",
              "1       492\n",
              "Name: Class, dtype: int64"
            ]
          },
          "metadata": {},
          "execution_count": 61
        }
      ]
    },
    {
      "cell_type": "code",
      "source": [
        "#Splitting genuine and fraud transactions\n",
        "df_fraud=df[df['Class']==1]\n",
        "df_non_fraud=df[df['Class']==0]"
      ],
      "metadata": {
        "id": "E1jh8x4Elukm"
      },
      "execution_count": 62,
      "outputs": []
    },
    {
      "cell_type": "code",
      "source": [
        "plt.style.use(\"seaborn-poster\")\n",
        "df.hist(figsize=(24,18),density=True,color=\"green\")\n",
        "plt.show()"
      ],
      "metadata": {
        "id": "Kr7HifsEl5KO",
        "outputId": "481983c4-9511-4a62-97d6-c263a94ba4ec",
        "colab": {
          "base_uri": "https://localhost:8080/",
          "height": 1000
        }
      },
      "execution_count": 63,
      "outputs": [
        {
          "output_type": "display_data",
          "data": {
            "text/plain": [
              "<Figure size 1728x1296 with 36 Axes>"
            ],
            "image/png": "[encoded data removed]"
          },
          "metadata": {
            "needs_background": "light"
          }
        }
      ]
    },
    {
      "cell_type": "code",
      "source": [
        "df_fraud.info()"
      ],
      "metadata": {
        "id": "_-PnrOCImBwN",
        "outputId": "ebaa0f26-534e-45d5-a8ad-56ccbd863a20",
        "colab": {
          "base_uri": "https://localhost:8080/"
        }
      },
      "execution_count": 64,
      "outputs": [
        {
          "output_type": "stream",
          "name": "stdout",
          "text": [
            "<class 'pandas.core.frame.DataFrame'>\n",
            "Int64Index: 492 entries, 541 to 281674\n",
            "Data columns (total 31 columns):\n",
            " #   Column  Non-Null Count  Dtype  \n",
            "---  ------  --------------  -----  \n",
            " 0   Time    492 non-null    float64\n",
            " 1   V1      492 non-null    float64\n",
            " 2   V2      492 non-null    float64\n",
            " 3   V3      492 non-null    float64\n",
            " 4   V4      492 non-null    float64\n",
            " 5   V5      492 non-null    float64\n",
            " 6   V6      492 non-null    float64\n",
            " 7   V7      492 non-null    float64\n",
            " 8   V8      492 non-null    float64\n",
            " 9   V9      492 non-null    float64\n",
            " 10  V10     492 non-null    float64\n",
            " 11  V11     492 non-null    float64\n",
            " 12  V12     492 non-null    float64\n",
            " 13  V13     492 non-null    float64\n",
            " 14  V14     492 non-null    float64\n",
            " 15  V15     492 non-null    float64\n",
            " 16  V16     492 non-null    float64\n",
            " 17  V17     492 non-null    float64\n",
            " 18  V18     492 non-null    float64\n",
            " 19  V19     492 non-null    float64\n",
            " 20  V20     492 non-null    float64\n",
            " 21  V21     492 non-null    float64\n",
            " 22  V22     492 non-null    float64\n",
            " 23  V23     492 non-null    float64\n",
            " 24  V24     492 non-null    float64\n",
            " 25  V25     492 non-null    float64\n",
            " 26  V26     492 non-null    float64\n",
            " 27  V27     492 non-null    float64\n",
            " 28  V28     492 non-null    float64\n",
            " 29  Amount  492 non-null    float64\n",
            " 30  Class   492 non-null    int64  \n",
            "dtypes: float64(30), int64(1)\n",
            "memory usage: 123.0 KB\n"
          ]
        }
      ]
    },
    {
      "cell_type": "code",
      "source": [
        "df_non_fraud.info()"
      ],
      "metadata": {
        "id": "0a3oG7zLmEyr",
        "outputId": "d4f06d04-23ed-43f4-c534-1ecbc07b9f71",
        "colab": {
          "base_uri": "https://localhost:8080/"
        }
      },
      "execution_count": 65,
      "outputs": [
        {
          "output_type": "stream",
          "name": "stdout",
          "text": [
            "<class 'pandas.core.frame.DataFrame'>\n",
            "Int64Index: 284315 entries, 0 to 284806\n",
            "Data columns (total 31 columns):\n",
            " #   Column  Non-Null Count   Dtype  \n",
            "---  ------  --------------   -----  \n",
            " 0   Time    284315 non-null  float64\n",
            " 1   V1      284315 non-null  float64\n",
            " 2   V2      284315 non-null  float64\n",
            " 3   V3      284315 non-null  float64\n",
            " 4   V4      284315 non-null  float64\n",
            " 5   V5      284315 non-null  float64\n",
            " 6   V6      284315 non-null  float64\n",
            " 7   V7      284315 non-null  float64\n",
            " 8   V8      284315 non-null  float64\n",
            " 9   V9      284315 non-null  float64\n",
            " 10  V10     284315 non-null  float64\n",
            " 11  V11     284315 non-null  float64\n",
            " 12  V12     284315 non-null  float64\n",
            " 13  V13     284315 non-null  float64\n",
            " 14  V14     284315 non-null  float64\n",
            " 15  V15     284315 non-null  float64\n",
            " 16  V16     284315 non-null  float64\n",
            " 17  V17     284315 non-null  float64\n",
            " 18  V18     284315 non-null  float64\n",
            " 19  V19     284315 non-null  float64\n",
            " 20  V20     284315 non-null  float64\n",
            " 21  V21     284315 non-null  float64\n",
            " 22  V22     284315 non-null  float64\n",
            " 23  V23     284315 non-null  float64\n",
            " 24  V24     284315 non-null  float64\n",
            " 25  V25     284315 non-null  float64\n",
            " 26  V26     284315 non-null  float64\n",
            " 27  V27     284315 non-null  float64\n",
            " 28  V28     284315 non-null  float64\n",
            " 29  Amount  284315 non-null  float64\n",
            " 30  Class   284315 non-null  int64  \n",
            "dtypes: float64(30), int64(1)\n",
            "memory usage: 69.4 MB\n"
          ]
        }
      ]
    },
    {
      "cell_type": "code",
      "source": [
        "#Data Balancing\n",
        "df_non_fraud=df_non_fraud.sample(n=492)\n",
        "df_non_fraud.head()\n",
        "df_non_fraud.shape\n",
        "df_non_fraud.info()\n",
        "\n",
        "# New Balanced data set with frand and genuine txns \n",
        "dfb=df_non_fraud.append(df_fraud)\n",
        "dfb.shape"
      ],
      "metadata": {
        "id": "Gav1ZQWgm5F6",
        "outputId": "885ab676-4df3-445b-8c61-124f829544fc",
        "colab": {
          "base_uri": "https://localhost:8080/"
        }
      },
      "execution_count": 66,
      "outputs": [
        {
          "output_type": "stream",
          "name": "stdout",
          "text": [
            "<class 'pandas.core.frame.DataFrame'>\n",
            "Int64Index: 492 entries, 162186 to 263218\n",
            "Data columns (total 31 columns):\n",
            " #   Column  Non-Null Count  Dtype  \n",
            "---  ------  --------------  -----  \n",
            " 0   Time    492 non-null    float64\n",
            " 1   V1      492 non-null    float64\n",
            " 2   V2      492 non-null    float64\n",
            " 3   V3      492 non-null    float64\n",
            " 4   V4      492 non-null    float64\n",
            " 5   V5      492 non-null    float64\n",
            " 6   V6      492 non-null    float64\n",
            " 7   V7      492 non-null    float64\n",
            " 8   V8      492 non-null    float64\n",
            " 9   V9      492 non-null    float64\n",
            " 10  V10     492 non-null    float64\n",
            " 11  V11     492 non-null    float64\n",
            " 12  V12     492 non-null    float64\n",
            " 13  V13     492 non-null    float64\n",
            " 14  V14     492 non-null    float64\n",
            " 15  V15     492 non-null    float64\n",
            " 16  V16     492 non-null    float64\n",
            " 17  V17     492 non-null    float64\n",
            " 18  V18     492 non-null    float64\n",
            " 19  V19     492 non-null    float64\n",
            " 20  V20     492 non-null    float64\n",
            " 21  V21     492 non-null    float64\n",
            " 22  V22     492 non-null    float64\n",
            " 23  V23     492 non-null    float64\n",
            " 24  V24     492 non-null    float64\n",
            " 25  V25     492 non-null    float64\n",
            " 26  V26     492 non-null    float64\n",
            " 27  V27     492 non-null    float64\n",
            " 28  V28     492 non-null    float64\n",
            " 29  Amount  492 non-null    float64\n",
            " 30  Class   492 non-null    int64  \n",
            "dtypes: float64(30), int64(1)\n",
            "memory usage: 123.0 KB\n"
          ]
        },
        {
          "output_type": "execute_result",
          "data": {
            "text/plain": [
              "(984, 31)"
            ]
          },
          "metadata": {},
          "execution_count": 66
        }
      ]
    },
    {
      "cell_type": "markdown",
      "source": [
        "# ***Models with outliers replaced with Mean and balanced dataset***"
      ],
      "metadata": {
        "id": "9rMKSQxnOELC"
      }
    },
    {
      "cell_type": "code",
      "source": [
        "\n",
        "def mean_outlier(df_in, col_name):\n",
        "    mean=df_in[col_name].mean()\n",
        "    q1 = df_in[col_name].quantile(0.25)\n",
        "    q3 = df_in[col_name].quantile(0.75)\n",
        "    iqr = q3-q1 #Interquartile range\n",
        "    fence_low  = q1-1.5*iqr\n",
        "    fence_high = q3+1.5*iqr\n",
        "    df_out = df_in.loc[(df_in[col_name] > fence_low) & (df_in[col_name] < fence_high)]\n",
        "    df_out.loc[df_in[col_name] < fence_low] = np.nan\n",
        "    df_out.loc[df_in[col_name] > fence_high] = np.nan\n",
        "    df_out.fillna(mean,inplace=True)\n",
        "    return df_out\n",
        "\n",
        "    for i in range(1,29):\n",
        "      dfb = mean_outlier(dfb,\"V\"+str(i))\n"
      ],
      "metadata": {
        "id": "KBFZOGsfmeOh"
      },
      "execution_count": 67,
      "outputs": []
    },
    {
      "cell_type": "code",
      "source": [
        "dfb.info()"
      ],
      "metadata": {
        "id": "1UsOLHvdSzUm",
        "colab": {
          "base_uri": "https://localhost:8080/"
        },
        "outputId": "111c075d-7b46-4462-b3bc-f23fc0f5a2af"
      },
      "execution_count": 68,
      "outputs": [
        {
          "output_type": "stream",
          "name": "stdout",
          "text": [
            "<class 'pandas.core.frame.DataFrame'>\n",
            "Int64Index: 984 entries, 162186 to 281674\n",
            "Data columns (total 31 columns):\n",
            " #   Column  Non-Null Count  Dtype  \n",
            "---  ------  --------------  -----  \n",
            " 0   Time    984 non-null    float64\n",
            " 1   V1      984 non-null    float64\n",
            " 2   V2      984 non-null    float64\n",
            " 3   V3      984 non-null    float64\n",
            " 4   V4      984 non-null    float64\n",
            " 5   V5      984 non-null    float64\n",
            " 6   V6      984 non-null    float64\n",
            " 7   V7      984 non-null    float64\n",
            " 8   V8      984 non-null    float64\n",
            " 9   V9      984 non-null    float64\n",
            " 10  V10     984 non-null    float64\n",
            " 11  V11     984 non-null    float64\n",
            " 12  V12     984 non-null    float64\n",
            " 13  V13     984 non-null    float64\n",
            " 14  V14     984 non-null    float64\n",
            " 15  V15     984 non-null    float64\n",
            " 16  V16     984 non-null    float64\n",
            " 17  V17     984 non-null    float64\n",
            " 18  V18     984 non-null    float64\n",
            " 19  V19     984 non-null    float64\n",
            " 20  V20     984 non-null    float64\n",
            " 21  V21     984 non-null    float64\n",
            " 22  V22     984 non-null    float64\n",
            " 23  V23     984 non-null    float64\n",
            " 24  V24     984 non-null    float64\n",
            " 25  V25     984 non-null    float64\n",
            " 26  V26     984 non-null    float64\n",
            " 27  V27     984 non-null    float64\n",
            " 28  V28     984 non-null    float64\n",
            " 29  Amount  984 non-null    float64\n",
            " 30  Class   984 non-null    int64  \n",
            "dtypes: float64(30), int64(1)\n",
            "memory usage: 246.0 KB\n"
          ]
        }
      ]
    },
    {
      "cell_type": "code",
      "source": [
        "X = dfb.iloc[:, :-1]\n",
        "y = dfb.iloc[:, -1]\n",
        " \n",
        "# split the dataset\n",
        "X_train, X_test, y_train, y_test = train_test_split(\n",
        "    X, y, test_size=0.20, random_state=0)"
      ],
      "metadata": {
        "id": "MgNsbe5oTT3P"
      },
      "execution_count": 69,
      "outputs": []
    },
    {
      "cell_type": "code",
      "source": [
        "X_train.shape"
      ],
      "metadata": {
        "id": "ITp7R3cTThLd",
        "colab": {
          "base_uri": "https://localhost:8080/"
        },
        "outputId": "31f6b499-ce0f-4de2-881c-4420d835e00b"
      },
      "execution_count": 70,
      "outputs": [
        {
          "output_type": "execute_result",
          "data": {
            "text/plain": [
              "(787, 30)"
            ]
          },
          "metadata": {},
          "execution_count": 70
        }
      ]
    },
    {
      "cell_type": "code",
      "source": [
        "y_train.shape"
      ],
      "metadata": {
        "id": "XyK0AnP9Ti1v",
        "colab": {
          "base_uri": "https://localhost:8080/"
        },
        "outputId": "4e9de81b-36ee-431a-ef57-134a482c172b"
      },
      "execution_count": 71,
      "outputs": [
        {
          "output_type": "execute_result",
          "data": {
            "text/plain": [
              "(787,)"
            ]
          },
          "metadata": {},
          "execution_count": 71
        }
      ]
    },
    {
      "cell_type": "code",
      "source": [
        "y_test"
      ],
      "metadata": {
        "id": "1lzdJ3L9Tuw0",
        "colab": {
          "base_uri": "https://localhost:8080/"
        },
        "outputId": "357ba8d0-d944-4914-9189-36fad1c414e2"
      },
      "execution_count": 72,
      "outputs": [
        {
          "output_type": "execute_result",
          "data": {
            "text/plain": [
              "121518    0\n",
              "8842      1\n",
              "241767    0\n",
              "44223     1\n",
              "241254    1\n",
              "         ..\n",
              "74900     0\n",
              "263324    1\n",
              "165286    0\n",
              "55401     1\n",
              "203700    1\n",
              "Name: Class, Length: 197, dtype: int64"
            ]
          },
          "metadata": {},
          "execution_count": 72
        }
      ]
    },
    {
      "cell_type": "markdown",
      "source": [
        "# ***Logistic Regression***"
      ],
      "metadata": {
        "id": "RlWgpsGfUVlM"
      }
    },
    {
      "cell_type": "code",
      "source": [
        "from sklearn.linear_model import LogisticRegression\n",
        "classifier = LogisticRegression()\n",
        "classifier.fit(X_train, y_train)   "
      ],
      "metadata": {
        "id": "f9mc4wq2UKpM",
        "colab": {
          "base_uri": "https://localhost:8080/"
        },
        "outputId": "35cf82a1-74d4-4dfd-e67d-9b1d0d852526"
      },
      "execution_count": 73,
      "outputs": [
        {
          "output_type": "execute_result",
          "data": {
            "text/plain": [
              "LogisticRegression()"
            ]
          },
          "metadata": {},
          "execution_count": 73
        }
      ]
    },
    {
      "cell_type": "code",
      "source": [
        "print(classifier.intercept_, classifier.coef_)"
      ],
      "metadata": {
        "id": "kiCfK74fUcFh",
        "colab": {
          "base_uri": "https://localhost:8080/"
        },
        "outputId": "356cb18d-f33c-4230-feb9-934b30f1bc71"
      },
      "execution_count": 74,
      "outputs": [
        {
          "output_type": "stream",
          "name": "stdout",
          "text": [
            "[-0.16512978] [[-2.43057906e-05  1.51322183e-01  9.02707630e-02 -5.11375839e-01\n",
            "   5.23689444e-01  1.45141854e-01 -2.03688919e-01 -1.65390187e-01\n",
            "  -1.97299756e-01 -2.58396502e-01 -3.22923543e-01  1.88109236e-01\n",
            "  -4.58838813e-01 -1.50039491e-01 -6.40872773e-01 -1.23884792e-01\n",
            "  -1.64067629e-01 -2.90482865e-01 -7.62711049e-03 -4.26422865e-02\n",
            "   2.94861853e-02  1.17039391e-01  5.99151320e-02  4.68751330e-02\n",
            "  -4.95370711e-02 -8.28868385e-02 -5.37943842e-03  3.04831172e-02\n",
            "  -8.73582600e-04  4.75182661e-04]]\n"
          ]
        }
      ]
    },
    {
      "cell_type": "code",
      "source": [
        "pred = classifier.predict(X_train)"
      ],
      "metadata": {
        "id": "gV-WZDxvUeSV"
      },
      "execution_count": 75,
      "outputs": []
    },
    {
      "cell_type": "code",
      "source": [
        "print ('Accuracy from sk-learn: {}'.format(classifier.score(X_train,y_train)))"
      ],
      "metadata": {
        "id": "W4UyT5x_UinH",
        "colab": {
          "base_uri": "https://localhost:8080/"
        },
        "outputId": "9223a76f-9064-43a3-bf3b-bb03788074aa"
      },
      "execution_count": 76,
      "outputs": [
        {
          "output_type": "stream",
          "name": "stdout",
          "text": [
            "Accuracy from sk-learn: 0.9339263024142312\n"
          ]
        }
      ]
    },
    {
      "cell_type": "code",
      "source": [
        "from sklearn.metrics import confusion_matrix"
      ],
      "metadata": {
        "id": "XvLJ38U-Hn49"
      },
      "execution_count": 77,
      "outputs": []
    },
    {
      "cell_type": "code",
      "source": [
        "pred_b = classifier.predict(X_test)"
      ],
      "metadata": {
        "id": "5cNXOzkRIQdG"
      },
      "execution_count": 78,
      "outputs": []
    },
    {
      "cell_type": "code",
      "source": [
        "report= classification_report(y_test,pred_b)\n",
        "print(report)"
      ],
      "metadata": {
        "id": "X0oqzCjtISlD",
        "outputId": "f18bf7f7-19e4-485f-900a-505179d23c14",
        "colab": {
          "base_uri": "https://localhost:8080/"
        }
      },
      "execution_count": 79,
      "outputs": [
        {
          "output_type": "stream",
          "name": "stdout",
          "text": [
            "              precision    recall  f1-score   support\n",
            "\n",
            "           0       0.90      0.99      0.94        91\n",
            "           1       0.99      0.91      0.95       106\n",
            "\n",
            "    accuracy                           0.94       197\n",
            "   macro avg       0.94      0.95      0.94       197\n",
            "weighted avg       0.95      0.94      0.94       197\n",
            "\n"
          ]
        }
      ]
    },
    {
      "cell_type": "code",
      "source": [
        "import sklearn.metrics as metrics\n",
        "confusion_matrix = metrics.confusion_matrix(y_test, pred_b)\n"
      ],
      "metadata": {
        "id": "J11NrEwFt_Lk"
      },
      "execution_count": 80,
      "outputs": []
    },
    {
      "cell_type": "code",
      "source": [
        "cm_display = metrics.ConfusionMatrixDisplay(confusion_matrix = confusion_matrix, display_labels = [False, True])"
      ],
      "metadata": {
        "id": "ZwZkrk50t7Tk"
      },
      "execution_count": 81,
      "outputs": []
    },
    {
      "cell_type": "code",
      "source": [
        "cm_display.plot()\n",
        "plt.show()"
      ],
      "metadata": {
        "id": "ybbuybkFojr2",
        "colab": {
          "base_uri": "https://localhost:8080/",
          "height": 561
        },
        "outputId": "ee0abe2a-0c7a-4100-eddf-72fb26b0655d"
      },
      "execution_count": 82,
      "outputs": [
        {
          "output_type": "display_data",
          "data": {
            "text/plain": [
              "<Figure size 921.6x633.6 with 2 Axes>"
            ],
            "image/png": "[encoded data removed]"
          },
          "metadata": {
            "needs_background": "light"
          }
        }
      ]
    },
    {
      "cell_type": "markdown",
      "source": [
        "# ***K - Nearest Neighbour***"
      ],
      "metadata": {
        "id": "QS6l1-JqkynE"
      }
    },
    {
      "cell_type": "code",
      "source": [
        "classifier=KNeighborsClassifier()"
      ],
      "metadata": {
        "id": "K6gvQGwXu6mG"
      },
      "execution_count": 83,
      "outputs": []
    },
    {
      "cell_type": "code",
      "source": [
        "classifier.fit(X_train, y_train)   "
      ],
      "metadata": {
        "colab": {
          "base_uri": "https://localhost:8080/"
        },
        "id": "PoeHWFoxvBnZ",
        "outputId": "570518ec-7985-4104-b80c-a560f2300fc1"
      },
      "execution_count": 84,
      "outputs": [
        {
          "output_type": "execute_result",
          "data": {
            "text/plain": [
              "KNeighborsClassifier()"
            ]
          },
          "metadata": {},
          "execution_count": 84
        }
      ]
    },
    {
      "cell_type": "code",
      "source": [
        "pred = classifier.predict(X_train)"
      ],
      "metadata": {
        "id": "8uHS4O7MvG2p"
      },
      "execution_count": 85,
      "outputs": []
    },
    {
      "cell_type": "code",
      "source": [
        "print ('Accuracy from sk-learn: {}'.format(classifier.score(X_train,y_train)))\n"
      ],
      "metadata": {
        "colab": {
          "base_uri": "https://localhost:8080/"
        },
        "id": "zwF5hTSAvWMg",
        "outputId": "4721872d-15d3-4fb8-c275-5a19e3c2ce38"
      },
      "execution_count": 86,
      "outputs": [
        {
          "output_type": "stream",
          "name": "stdout",
          "text": [
            "Accuracy from sk-learn: 0.7801778907242694\n"
          ]
        }
      ]
    },
    {
      "cell_type": "code",
      "source": [
        "pred_b = classifier.predict(X_test)"
      ],
      "metadata": {
        "id": "WkpFToGdyK0A"
      },
      "execution_count": 87,
      "outputs": []
    },
    {
      "cell_type": "code",
      "source": [
        "report= classification_report(y_test,pred_b)\n",
        "print(report)"
      ],
      "metadata": {
        "colab": {
          "base_uri": "https://localhost:8080/"
        },
        "id": "ePHbcJUSyPju",
        "outputId": "8b622192-d74e-48a9-a8bb-2f1a5c5a3bae"
      },
      "execution_count": 88,
      "outputs": [
        {
          "output_type": "stream",
          "name": "stdout",
          "text": [
            "              precision    recall  f1-score   support\n",
            "\n",
            "           0       0.60      0.70      0.65        91\n",
            "           1       0.70      0.60      0.65       106\n",
            "\n",
            "    accuracy                           0.65       197\n",
            "   macro avg       0.65      0.65      0.65       197\n",
            "weighted avg       0.66      0.65      0.65       197\n",
            "\n"
          ]
        }
      ]
    },
    {
      "cell_type": "code",
      "source": [
        "confusion_matrix = metrics.confusion_matrix(y_test, pred_b)"
      ],
      "metadata": {
        "id": "2U6Eb3CNz-qD"
      },
      "execution_count": 89,
      "outputs": []
    },
    {
      "cell_type": "code",
      "source": [
        "cm_display = metrics.ConfusionMatrixDisplay(confusion_matrix = confusion_matrix, display_labels = [False, True])"
      ],
      "metadata": {
        "id": "FJke8Jyb0AYL"
      },
      "execution_count": 90,
      "outputs": []
    },
    {
      "cell_type": "code",
      "source": [
        "cm_display.plot()\n",
        "plt.show()"
      ],
      "metadata": {
        "colab": {
          "base_uri": "https://localhost:8080/",
          "height": 561
        },
        "id": "C9AEOfV70Drh",
        "outputId": "e57c05f4-bfc0-4dbb-e817-007e5a47c372"
      },
      "execution_count": 91,
      "outputs": [
        {
          "output_type": "display_data",
          "data": {
            "text/plain": [
              "<Figure size 921.6x633.6 with 2 Axes>"
            ],
            "image/png": "[encoded data removed]"
          },
          "metadata": {
            "needs_background": "light"
          }
        }
      ]
    },
    {
      "cell_type": "markdown",
      "source": [
        "# ***Support Vector Machine***"
      ],
      "metadata": {
        "id": "k7sqjgXimzRj"
      }
    },
    {
      "cell_type": "code",
      "source": [
        "classifier=SVC()"
      ],
      "metadata": {
        "id": "aiHY12Rj0UnS"
      },
      "execution_count": 92,
      "outputs": []
    },
    {
      "cell_type": "code",
      "source": [
        "classifier.fit(X_train, y_train)   "
      ],
      "metadata": {
        "colab": {
          "base_uri": "https://localhost:8080/"
        },
        "id": "AfWgKE620YQh",
        "outputId": "bacf8746-6990-49b2-aa51-eff406a349a4"
      },
      "execution_count": 93,
      "outputs": [
        {
          "output_type": "execute_result",
          "data": {
            "text/plain": [
              "SVC()"
            ]
          },
          "metadata": {},
          "execution_count": 93
        }
      ]
    },
    {
      "cell_type": "code",
      "source": [
        "pred = classifier.predict(X_train)"
      ],
      "metadata": {
        "id": "Fds3B3Tx0a9r"
      },
      "execution_count": 94,
      "outputs": []
    },
    {
      "cell_type": "code",
      "source": [
        "print ('Accuracy from sk-learn: {}'.format(classifier.score(X_train,y_train)))"
      ],
      "metadata": {
        "colab": {
          "base_uri": "https://localhost:8080/"
        },
        "id": "LwrOAMHt0deR",
        "outputId": "b7e09f30-272f-4e87-cc5b-bd4b72b5f5fc"
      },
      "execution_count": 95,
      "outputs": [
        {
          "output_type": "stream",
          "name": "stdout",
          "text": [
            "Accuracy from sk-learn: 0.5108005082592122\n"
          ]
        }
      ]
    },
    {
      "cell_type": "code",
      "source": [
        "pred_b = classifier.predict(X_test)"
      ],
      "metadata": {
        "id": "lI9AwDrj2m94"
      },
      "execution_count": 96,
      "outputs": []
    },
    {
      "cell_type": "code",
      "source": [
        "report= classification_report(y_test,pred_b)\n",
        "print(report)"
      ],
      "metadata": {
        "colab": {
          "base_uri": "https://localhost:8080/"
        },
        "id": "Z_BlTjoN2ofp",
        "outputId": "84cd8868-980f-4787-e77c-06a1f4576148"
      },
      "execution_count": 97,
      "outputs": [
        {
          "output_type": "stream",
          "name": "stdout",
          "text": [
            "              precision    recall  f1-score   support\n",
            "\n",
            "           0       0.49      0.46      0.47        91\n",
            "           1       0.56      0.58      0.57       106\n",
            "\n",
            "    accuracy                           0.53       197\n",
            "   macro avg       0.52      0.52      0.52       197\n",
            "weighted avg       0.53      0.53      0.53       197\n",
            "\n"
          ]
        }
      ]
    },
    {
      "cell_type": "code",
      "source": [
        "confusion_matrix = metrics.confusion_matrix(y_test, pred_b)"
      ],
      "metadata": {
        "id": "EuBOsM2M24ow"
      },
      "execution_count": 98,
      "outputs": []
    },
    {
      "cell_type": "code",
      "source": [
        "cm_display = metrics.ConfusionMatrixDisplay(confusion_matrix = confusion_matrix, display_labels = [False, True])"
      ],
      "metadata": {
        "id": "5hFgmjOd26kp"
      },
      "execution_count": 99,
      "outputs": []
    },
    {
      "cell_type": "code",
      "source": [
        "cm_display.plot()\n",
        "plt.show()"
      ],
      "metadata": {
        "colab": {
          "base_uri": "https://localhost:8080/",
          "height": 0
        },
        "id": "eKPDhr_y28mX",
        "outputId": "209224d6-3725-46ee-a163-04e27f299bf3"
      },
      "execution_count": 100,
      "outputs": [
        {
          "output_type": "display_data",
          "data": {
            "text/plain": [
              "<Figure size 921.6x633.6 with 2 Axes>"
            ],
            "image/png": "[encoded data removed]"
          },
          "metadata": {
            "needs_background": "light"
          }
        }
      ]
    },
    {
      "cell_type": "markdown",
      "source": [
        "# **Decision Tree Classifier**"
      ],
      "metadata": {
        "id": "4TuI_PoI2-8n"
      }
    },
    {
      "cell_type": "code",
      "source": [
        "classifier=DecisionTreeClassifier()"
      ],
      "metadata": {
        "id": "Anct80mt3DAS"
      },
      "execution_count": 101,
      "outputs": []
    },
    {
      "cell_type": "code",
      "source": [
        "classifier.fit(X_train, y_train) "
      ],
      "metadata": {
        "colab": {
          "base_uri": "https://localhost:8080/"
        },
        "id": "kYLg7Ga33PzG",
        "outputId": "606e4010-8b1f-46e8-951c-f4d79679e9b0"
      },
      "execution_count": 102,
      "outputs": [
        {
          "output_type": "execute_result",
          "data": {
            "text/plain": [
              "DecisionTreeClassifier()"
            ]
          },
          "metadata": {},
          "execution_count": 102
        }
      ]
    },
    {
      "cell_type": "code",
      "source": [
        "pred = classifier.predict(X_train)"
      ],
      "metadata": {
        "id": "DNEqj4vj3Rqi"
      },
      "execution_count": 103,
      "outputs": []
    },
    {
      "cell_type": "code",
      "source": [
        "print ('Accuracy from sk-learn: {}'.format(classifier.score(X_train,y_train)))"
      ],
      "metadata": {
        "colab": {
          "base_uri": "https://localhost:8080/"
        },
        "id": "rS209LsR3Uvn",
        "outputId": "134ae8e6-f842-4f10-c270-1ed784b717f5"
      },
      "execution_count": 104,
      "outputs": [
        {
          "output_type": "stream",
          "name": "stdout",
          "text": [
            "Accuracy from sk-learn: 1.0\n"
          ]
        }
      ]
    },
    {
      "cell_type": "code",
      "source": [
        "# print('Accuracy from DecisionTreeClassifier for training : 0.89')"
      ],
      "metadata": {
        "id": "AQ6pxJXp3XAB"
      },
      "execution_count": 105,
      "outputs": []
    },
    {
      "cell_type": "code",
      "source": [
        "pred_b = classifier.predict(X_test)"
      ],
      "metadata": {
        "id": "LoGDliAq3kql"
      },
      "execution_count": 106,
      "outputs": []
    },
    {
      "cell_type": "code",
      "source": [
        "report= classification_report(y_test,pred_b)\n",
        "print(report)"
      ],
      "metadata": {
        "colab": {
          "base_uri": "https://localhost:8080/"
        },
        "id": "tGyxVcxC3mIy",
        "outputId": "ac95cf94-616f-4246-e327-06c82549fbd2"
      },
      "execution_count": 107,
      "outputs": [
        {
          "output_type": "stream",
          "name": "stdout",
          "text": [
            "              precision    recall  f1-score   support\n",
            "\n",
            "           0       0.86      0.91      0.88        91\n",
            "           1       0.92      0.87      0.89       106\n",
            "\n",
            "    accuracy                           0.89       197\n",
            "   macro avg       0.89      0.89      0.89       197\n",
            "weighted avg       0.89      0.89      0.89       197\n",
            "\n"
          ]
        }
      ]
    },
    {
      "cell_type": "code",
      "source": [
        "cm_display = metrics.ConfusionMatrixDisplay(confusion_matrix = confusion_matrix, display_labels = [False, True])"
      ],
      "metadata": {
        "id": "UasrewPR9I8M"
      },
      "execution_count": 108,
      "outputs": []
    },
    {
      "cell_type": "code",
      "source": [
        "cm_display.plot()\n",
        "plt.show()"
      ],
      "metadata": {
        "colab": {
          "base_uri": "https://localhost:8080/",
          "height": 561
        },
        "id": "S0NY1Tsr9Lo0",
        "outputId": "97f7826a-2523-42dd-ebd3-2de1f1db8a8e"
      },
      "execution_count": 109,
      "outputs": [
        {
          "output_type": "display_data",
          "data": {
            "text/plain": [
              "<Figure size 921.6x633.6 with 2 Axes>"
            ],
            "image/png": "[encoded data removed]"
          },
          "metadata": {
            "needs_background": "light"
          }
        }
      ]
    }
  ],
  "metadata": {
    "colab": {
      "provenance": [],
      "collapsed_sections": [
        "9rMKSQxnOELC",
        "RlWgpsGfUVlM",
        "QS6l1-JqkynE",
        "k7sqjgXimzRj",
        "4TuI_PoI2-8n"
      ],
      "include_colab_link": true
    },
    "kernelspec": {
      "display_name": "Python 3",
      "name": "python3"
    }
  },
  "nbformat": 4,
  "nbformat_minor": 0
}