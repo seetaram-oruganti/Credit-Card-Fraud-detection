{
  "cells": [
    {
      "cell_type": "markdown",
      "metadata": {
        "id": "view-in-github",
        "colab_type": "text"
      },
      "source": [
        "<a href=\"https://colab.research.google.com/github/seetaram-oruganti/Credit-Card-Fraud-detection/blob/main/MLP_with_outliers_and_with_data_balancing.ipynb\" target=\"_parent\"><img src=\"https://colab.research.google.com/assets/colab-badge.svg\" alt=\"Open In Colab\"/></a>"
      ]
    },
    {
      "cell_type": "code",
      "source": [
        "from google.colab import drive\n",
        "drive.mount('/content/drive')"
      ],
      "metadata": {
        "id": "7wkRsFA3i_fv",
        "outputId": "aa748ccf-362b-4160-f7a8-65aac2c4ee7a",
        "colab": {
          "base_uri": "https://localhost:8080/"
        }
      },
      "execution_count": 70,
      "outputs": [
        {
          "output_type": "stream",
          "name": "stdout",
          "text": [
            "Drive already mounted at /content/drive; to attempt to forcibly remount, call drive.mount(\"/content/drive\", force_remount=True).\n"
          ]
        }
      ]
    },
    {
      "cell_type": "markdown",
      "source": [
        "# ***Exploratory data analysis***"
      ],
      "metadata": {
        "id": "mQK3-5mok0-y"
      }
    },
    {
      "cell_type": "code",
      "source": [
        "import numpy as np # linear algebra\n",
        "import pandas as pd # data processing, CSV file I/O (e.g. pd.read_csv)\n",
        "import tensorflow as tf\n",
        "import matplotlib.pyplot as plt\n",
        "import seaborn as sns\n",
        "from sklearn.metrics import confusion_matrix\n",
        "from sklearn.manifold import TSNE\n",
        "from sklearn.decomposition import PCA, TruncatedSVD\n",
        "import matplotlib.patches as mpatches\n",
        "import time\n",
        "\n",
        "# Classifier Libraries\n",
        "from sklearn.linear_model import LogisticRegression\n",
        "from sklearn.svm import SVC\n",
        "from sklearn.neighbors import KNeighborsClassifier\n",
        "from sklearn.tree import DecisionTreeClassifier\n",
        "from sklearn.ensemble import RandomForestClassifier\n",
        "import collections\n",
        "\n",
        "\n",
        "# Other Libraries\n",
        "from sklearn.model_selection import train_test_split\n",
        "from sklearn.pipeline import make_pipeline\n",
        "\n",
        "from sklearn.metrics import precision_score, recall_score, f1_score, roc_auc_score, accuracy_score, classification_report\n",
        "from collections import Counter\n",
        "from sklearn.model_selection import KFold, StratifiedKFold\n",
        "import imblearn\n",
        "import warnings\n",
        "warnings.filterwarnings(\"ignore\")\n",
        "\n",
        "\n",
        "df = pd.read_csv('/content/drive/MyDrive/creditcard.csv')\n",
        "df.head()\n"
      ],
      "metadata": {
        "id": "sjRXypwBk0PI",
        "outputId": "d5970f1b-07f8-491b-fb40-2844fa007325",
        "colab": {
          "base_uri": "https://localhost:8080/",
          "height": 299
        }
      },
      "execution_count": 71,
      "outputs": [
        {
          "output_type": "execute_result",
          "data": {
            "text/plain": [
              "   Time        V1        V2        V3        V4        V5        V6        V7  \\\n",
              "0   0.0 -1.359807 -0.072781  2.536347  1.378155 -0.338321  0.462388  0.239599   \n",
              "1   0.0  1.191857  0.266151  0.166480  0.448154  0.060018 -0.082361 -0.078803   \n",
              "2   1.0 -1.358354 -1.340163  1.773209  0.379780 -0.503198  1.800499  0.791461   \n",
              "3   1.0 -0.966272 -0.185226  1.792993 -0.863291 -0.010309  1.247203  0.237609   \n",
              "4   2.0 -1.158233  0.877737  1.548718  0.403034 -0.407193  0.095921  0.592941   \n",
              "\n",
              "         V8        V9  ...       V21       V22       V23       V24       V25  \\\n",
              "0  0.098698  0.363787  ... -0.018307  0.277838 -0.110474  0.066928  0.128539   \n",
              "1  0.085102 -0.255425  ... -0.225775 -0.638672  0.101288 -0.339846  0.167170   \n",
              "2  0.247676 -1.514654  ...  0.247998  0.771679  0.909412 -0.689281 -0.327642   \n",
              "3  0.377436 -1.387024  ... -0.108300  0.005274 -0.190321 -1.175575  0.647376   \n",
              "4 -0.270533  0.817739  ... -0.009431  0.798278 -0.137458  0.141267 -0.206010   \n",
              "\n",
              "        V26       V27       V28  Amount  Class  \n",
              "0 -0.189115  0.133558 -0.021053  149.62      0  \n",
              "1  0.125895 -0.008983  0.014724    2.69      0  \n",
              "2 -0.139097 -0.055353 -0.059752  378.66      0  \n",
              "3 -0.221929  0.062723  0.061458  123.50      0  \n",
              "4  0.502292  0.219422  0.215153   69.99      0  \n",
              "\n",
              "[5 rows x 31 columns]"
            ],
            "text/html": [
              "\n",
              "  <div id=\"df-db68a4e6-5c21-442c-b1b0-d004cfb8d5cd\">\n",
              "    <div class=\"colab-df-container\">\n",
              "      <div>\n",
              "<style scoped>\n",
              "    .dataframe tbody tr th:only-of-type {\n",
              "        vertical-align: middle;\n",
              "    }\n",
              "\n",
              "    .dataframe tbody tr th {\n",
              "        vertical-align: top;\n",
              "    }\n",
              "\n",
              "    .dataframe thead th {\n",
              "        text-align: right;\n",
              "    }\n",
              "</style>\n",
              "<table border=\"1\" class=\"dataframe\">\n",
              "  <thead>\n",
              "    <tr style=\"text-align: right;\">\n",
              "      <th></th>\n",
              "      <th>Time</th>\n",
              "      <th>V1</th>\n",
              "      <th>V2</th>\n",
              "      <th>V3</th>\n",
              "      <th>V4</th>\n",
              "      <th>V5</th>\n",
              "      <th>V6</th>\n",
              "      <th>V7</th>\n",
              "      <th>V8</th>\n",
              "      <th>V9</th>\n",
              "      <th>...</th>\n",
              "      <th>V21</th>\n",
              "      <th>V22</th>\n",
              "      <th>V23</th>\n",
              "      <th>V24</th>\n",
              "      <th>V25</th>\n",
              "      <th>V26</th>\n",
              "      <th>V27</th>\n",
              "      <th>V28</th>\n",
              "      <th>Amount</th>\n",
              "      <th>Class</th>\n",
              "    </tr>\n",
              "  </thead>\n",
              "  <tbody>\n",
              "    <tr>\n",
              "      <th>0</th>\n",
              "      <td>0.0</td>\n",
              "      <td>-1.359807</td>\n",
              "      <td>-0.072781</td>\n",
              "      <td>2.536347</td>\n",
              "      <td>1.378155</td>\n",
              "      <td>-0.338321</td>\n",
              "      <td>0.462388</td>\n",
              "      <td>0.239599</td>\n",
              "      <td>0.098698</td>\n",
              "      <td>0.363787</td>\n",
              "      <td>...</td>\n",
              "      <td>-0.018307</td>\n",
              "      <td>0.277838</td>\n",
              "      <td>-0.110474</td>\n",
              "      <td>0.066928</td>\n",
              "      <td>0.128539</td>\n",
              "      <td>-0.189115</td>\n",
              "      <td>0.133558</td>\n",
              "      <td>-0.021053</td>\n",
              "      <td>149.62</td>\n",
              "      <td>0</td>\n",
              "    </tr>\n",
              "    <tr>\n",
              "      <th>1</th>\n",
              "      <td>0.0</td>\n",
              "      <td>1.191857</td>\n",
              "      <td>0.266151</td>\n",
              "      <td>0.166480</td>\n",
              "      <td>0.448154</td>\n",
              "      <td>0.060018</td>\n",
              "      <td>-0.082361</td>\n",
              "      <td>-0.078803</td>\n",
              "      <td>0.085102</td>\n",
              "      <td>-0.255425</td>\n",
              "      <td>...</td>\n",
              "      <td>-0.225775</td>\n",
              "      <td>-0.638672</td>\n",
              "      <td>0.101288</td>\n",
              "      <td>-0.339846</td>\n",
              "      <td>0.167170</td>\n",
              "      <td>0.125895</td>\n",
              "      <td>-0.008983</td>\n",
              "      <td>0.014724</td>\n",
              "      <td>2.69</td>\n",
              "      <td>0</td>\n",
              "    </tr>\n",
              "    <tr>\n",
              "      <th>2</th>\n",
              "      <td>1.0</td>\n",
              "      <td>-1.358354</td>\n",
              "      <td>-1.340163</td>\n",
              "      <td>1.773209</td>\n",
              "      <td>0.379780</td>\n",
              "      <td>-0.503198</td>\n",
              "      <td>1.800499</td>\n",
              "      <td>0.791461</td>\n",
              "      <td>0.247676</td>\n",
              "      <td>-1.514654</td>\n",
              "      <td>...</td>\n",
              "      <td>0.247998</td>\n",
              "      <td>0.771679</td>\n",
              "      <td>0.909412</td>\n",
              "      <td>-0.689281</td>\n",
              "      <td>-0.327642</td>\n",
              "      <td>-0.139097</td>\n",
              "      <td>-0.055353</td>\n",
              "      <td>-0.059752</td>\n",
              "      <td>378.66</td>\n",
              "      <td>0</td>\n",
              "    </tr>\n",
              "    <tr>\n",
              "      <th>3</th>\n",
              "      <td>1.0</td>\n",
              "      <td>-0.966272</td>\n",
              "      <td>-0.185226</td>\n",
              "      <td>1.792993</td>\n",
              "      <td>-0.863291</td>\n",
              "      <td>-0.010309</td>\n",
              "      <td>1.247203</td>\n",
              "      <td>0.237609</td>\n",
              "      <td>0.377436</td>\n",
              "      <td>-1.387024</td>\n",
              "      <td>...</td>\n",
              "      <td>-0.108300</td>\n",
              "      <td>0.005274</td>\n",
              "      <td>-0.190321</td>\n",
              "      <td>-1.175575</td>\n",
              "      <td>0.647376</td>\n",
              "      <td>-0.221929</td>\n",
              "      <td>0.062723</td>\n",
              "      <td>0.061458</td>\n",
              "      <td>123.50</td>\n",
              "      <td>0</td>\n",
              "    </tr>\n",
              "    <tr>\n",
              "      <th>4</th>\n",
              "      <td>2.0</td>\n",
              "      <td>-1.158233</td>\n",
              "      <td>0.877737</td>\n",
              "      <td>1.548718</td>\n",
              "      <td>0.403034</td>\n",
              "      <td>-0.407193</td>\n",
              "      <td>0.095921</td>\n",
              "      <td>0.592941</td>\n",
              "      <td>-0.270533</td>\n",
              "      <td>0.817739</td>\n",
              "      <td>...</td>\n",
              "      <td>-0.009431</td>\n",
              "      <td>0.798278</td>\n",
              "      <td>-0.137458</td>\n",
              "      <td>0.141267</td>\n",
              "      <td>-0.206010</td>\n",
              "      <td>0.502292</td>\n",
              "      <td>0.219422</td>\n",
              "      <td>0.215153</td>\n",
              "      <td>69.99</td>\n",
              "      <td>0</td>\n",
              "    </tr>\n",
              "  </tbody>\n",
              "</table>\n",
              "<p>5 rows × 31 columns</p>\n",
              "</div>\n",
              "      <button class=\"colab-df-convert\" onclick=\"convertToInteractive('df-db68a4e6-5c21-442c-b1b0-d004cfb8d5cd')\"\n",
              "              title=\"Convert this dataframe to an interactive table.\"\n",
              "              style=\"display:none;\">\n",
              "        \n",
              "  <svg xmlns=\"http://www.w3.org/2000/svg\" height=\"24px\"viewBox=\"0 0 24 24\"\n",
              "       width=\"24px\">\n",
              "    <path d=\"M0 0h24v24H0V0z\" fill=\"none\"/>\n",
              "    <path d=\"M18.56 5.44l.94 2.06.94-2.06 2.06-.94-2.06-.94-.94-2.06-.94 2.06-2.06.94zm-11 1L8.5 8.5l.94-2.06 2.06-.94-2.06-.94L8.5 2.5l-.94 2.06-2.06.94zm10 10l.94 2.06.94-2.06 2.06-.94-2.06-.94-.94-2.06-.94 2.06-2.06.94z\"/><path d=\"M17.41 7.96l-1.37-1.37c-.4-.4-.92-.59-1.43-.59-.52 0-1.04.2-1.43.59L10.3 9.45l-7.72 7.72c-.78.78-.78 2.05 0 2.83L4 21.41c.39.39.9.59 1.41.59.51 0 1.02-.2 1.41-.59l7.78-7.78 2.81-2.81c.8-.78.8-2.07 0-2.86zM5.41 20L4 18.59l7.72-7.72 1.47 1.35L5.41 20z\"/>\n",
              "  </svg>\n",
              "      </button>\n",
              "      \n",
              "  <style>\n",
              "    .colab-df-container {\n",
              "      display:flex;\n",
              "      flex-wrap:wrap;\n",
              "      gap: 12px;\n",
              "    }\n",
              "\n",
              "    .colab-df-convert {\n",
              "      background-color: #E8F0FE;\n",
              "      border: none;\n",
              "      border-radius: 50%;\n",
              "      cursor: pointer;\n",
              "      display: none;\n",
              "      fill: #1967D2;\n",
              "      height: 32px;\n",
              "      padding: 0 0 0 0;\n",
              "      width: 32px;\n",
              "    }\n",
              "\n",
              "    .colab-df-convert:hover {\n",
              "      background-color: #E2EBFA;\n",
              "      box-shadow: 0px 1px 2px rgba(60, 64, 67, 0.3), 0px 1px 3px 1px rgba(60, 64, 67, 0.15);\n",
              "      fill: #174EA6;\n",
              "    }\n",
              "\n",
              "    [theme=dark] .colab-df-convert {\n",
              "      background-color: #3B4455;\n",
              "      fill: #D2E3FC;\n",
              "    }\n",
              "\n",
              "    [theme=dark] .colab-df-convert:hover {\n",
              "      background-color: #434B5C;\n",
              "      box-shadow: 0px 1px 3px 1px rgba(0, 0, 0, 0.15);\n",
              "      filter: drop-shadow(0px 1px 2px rgba(0, 0, 0, 0.3));\n",
              "      fill: #FFFFFF;\n",
              "    }\n",
              "  </style>\n",
              "\n",
              "      <script>\n",
              "        const buttonEl =\n",
              "          document.querySelector('#df-db68a4e6-5c21-442c-b1b0-d004cfb8d5cd button.colab-df-convert');\n",
              "        buttonEl.style.display =\n",
              "          google.colab.kernel.accessAllowed ? 'block' : 'none';\n",
              "\n",
              "        async function convertToInteractive(key) {\n",
              "          const element = document.querySelector('#df-db68a4e6-5c21-442c-b1b0-d004cfb8d5cd');\n",
              "          const dataTable =\n",
              "            await google.colab.kernel.invokeFunction('convertToInteractive',\n",
              "                                                     [key], {});\n",
              "          if (!dataTable) return;\n",
              "\n",
              "          const docLinkHtml = 'Like what you see? Visit the ' +\n",
              "            '<a target=\"_blank\" href=https://colab.research.google.com/notebooks/data_table.ipynb>data table notebook</a>'\n",
              "            + ' to learn more about interactive tables.';\n",
              "          element.innerHTML = '';\n",
              "          dataTable['output_type'] = 'display_data';\n",
              "          await google.colab.output.renderOutput(dataTable, element);\n",
              "          const docLink = document.createElement('div');\n",
              "          docLink.innerHTML = docLinkHtml;\n",
              "          element.appendChild(docLink);\n",
              "        }\n",
              "      </script>\n",
              "    </div>\n",
              "  </div>\n",
              "  "
            ]
          },
          "metadata": {},
          "execution_count": 71
        }
      ]
    },
    {
      "cell_type": "code",
      "source": [
        "df.info()"
      ],
      "metadata": {
        "id": "TiP3KGYdliMx",
        "outputId": "c5217541-3350-4ff9-ff02-25ebbb6e3a53",
        "colab": {
          "base_uri": "https://localhost:8080/"
        }
      },
      "execution_count": 72,
      "outputs": [
        {
          "output_type": "stream",
          "name": "stdout",
          "text": [
            "<class 'pandas.core.frame.DataFrame'>\n",
            "RangeIndex: 284807 entries, 0 to 284806\n",
            "Data columns (total 31 columns):\n",
            " #   Column  Non-Null Count   Dtype  \n",
            "---  ------  --------------   -----  \n",
            " 0   Time    284807 non-null  float64\n",
            " 1   V1      284807 non-null  float64\n",
            " 2   V2      284807 non-null  float64\n",
            " 3   V3      284807 non-null  float64\n",
            " 4   V4      284807 non-null  float64\n",
            " 5   V5      284807 non-null  float64\n",
            " 6   V6      284807 non-null  float64\n",
            " 7   V7      284807 non-null  float64\n",
            " 8   V8      284807 non-null  float64\n",
            " 9   V9      284807 non-null  float64\n",
            " 10  V10     284807 non-null  float64\n",
            " 11  V11     284807 non-null  float64\n",
            " 12  V12     284807 non-null  float64\n",
            " 13  V13     284807 non-null  float64\n",
            " 14  V14     284807 non-null  float64\n",
            " 15  V15     284807 non-null  float64\n",
            " 16  V16     284807 non-null  float64\n",
            " 17  V17     284807 non-null  float64\n",
            " 18  V18     284807 non-null  float64\n",
            " 19  V19     284807 non-null  float64\n",
            " 20  V20     284807 non-null  float64\n",
            " 21  V21     284807 non-null  float64\n",
            " 22  V22     284807 non-null  float64\n",
            " 23  V23     284807 non-null  float64\n",
            " 24  V24     284807 non-null  float64\n",
            " 25  V25     284807 non-null  float64\n",
            " 26  V26     284807 non-null  float64\n",
            " 27  V27     284807 non-null  float64\n",
            " 28  V28     284807 non-null  float64\n",
            " 29  Amount  284807 non-null  float64\n",
            " 30  Class   284807 non-null  int64  \n",
            "dtypes: float64(30), int64(1)\n",
            "memory usage: 67.4 MB\n"
          ]
        }
      ]
    },
    {
      "cell_type": "code",
      "source": [
        "df.shape"
      ],
      "metadata": {
        "id": "Ri2Mtk_ellOr",
        "outputId": "f82dd7a1-6980-412c-87a7-7c77cddd339c",
        "colab": {
          "base_uri": "https://localhost:8080/"
        }
      },
      "execution_count": 73,
      "outputs": [
        {
          "output_type": "execute_result",
          "data": {
            "text/plain": [
              "(284807, 31)"
            ]
          },
          "metadata": {},
          "execution_count": 73
        }
      ]
    },
    {
      "cell_type": "code",
      "source": [
        "print('No Frauds', round(df['Class'].value_counts()[0]/len(df) * 100,2), '% of the dataset')\n",
        "print('Frauds', round(df['Class'].value_counts()[1]/len(df) * 100,2), '% of the dataset')"
      ],
      "metadata": {
        "id": "ELwx3HtvlowE",
        "outputId": "157836e1-20c2-4f5c-8518-b5d0485b1d92",
        "colab": {
          "base_uri": "https://localhost:8080/"
        }
      },
      "execution_count": 74,
      "outputs": [
        {
          "output_type": "stream",
          "name": "stdout",
          "text": [
            "No Frauds 99.83 % of the dataset\n",
            "Frauds 0.17 % of the dataset\n"
          ]
        }
      ]
    },
    {
      "cell_type": "code",
      "source": [
        "df['Class'].value_counts()"
      ],
      "metadata": {
        "id": "xmW-bz_jlr13",
        "outputId": "3b67889e-98ab-4028-c9db-473217ae73b6",
        "colab": {
          "base_uri": "https://localhost:8080/"
        }
      },
      "execution_count": 75,
      "outputs": [
        {
          "output_type": "execute_result",
          "data": {
            "text/plain": [
              "0    284315\n",
              "1       492\n",
              "Name: Class, dtype: int64"
            ]
          },
          "metadata": {},
          "execution_count": 75
        }
      ]
    },
    {
      "cell_type": "code",
      "source": [
        "#Splitting genuine and fraud transactions\n",
        "df_fraud=df[df['Class']==1]\n",
        "df_non_fraud=df[df['Class']==0]"
      ],
      "metadata": {
        "id": "E1jh8x4Elukm"
      },
      "execution_count": 76,
      "outputs": []
    },
    {
      "cell_type": "code",
      "source": [
        "plt.style.use(\"seaborn-poster\")\n",
        "df.hist(figsize=(24,18),density=True,color=\"green\")\n",
        "plt.show()"
      ],
      "metadata": {
        "id": "Kr7HifsEl5KO",
        "outputId": "f5026566-d4c7-4108-e30d-e55b36ee1a92",
        "colab": {
          "base_uri": "https://localhost:8080/",
          "height": 1000
        }
      },
      "execution_count": 77,
      "outputs": [
        {
          "output_type": "display_data",
          "data": {
            "text/plain": [
              "<Figure size 1728x1296 with 36 Axes>"
            ],
            "image/png": "[encoded data removed]"
          },
          "metadata": {
            "needs_background": "light"
          }
        }
      ]
    },
    {
      "cell_type": "code",
      "source": [
        "df_fraud.info()\n"
      ],
      "metadata": {
        "id": "_-PnrOCImBwN",
        "outputId": "9471a145-4691-4e96-d119-10b9fa8f3c88",
        "colab": {
          "base_uri": "https://localhost:8080/"
        }
      },
      "execution_count": 78,
      "outputs": [
        {
          "output_type": "stream",
          "name": "stdout",
          "text": [
            "<class 'pandas.core.frame.DataFrame'>\n",
            "Int64Index: 492 entries, 541 to 281674\n",
            "Data columns (total 31 columns):\n",
            " #   Column  Non-Null Count  Dtype  \n",
            "---  ------  --------------  -----  \n",
            " 0   Time    492 non-null    float64\n",
            " 1   V1      492 non-null    float64\n",
            " 2   V2      492 non-null    float64\n",
            " 3   V3      492 non-null    float64\n",
            " 4   V4      492 non-null    float64\n",
            " 5   V5      492 non-null    float64\n",
            " 6   V6      492 non-null    float64\n",
            " 7   V7      492 non-null    float64\n",
            " 8   V8      492 non-null    float64\n",
            " 9   V9      492 non-null    float64\n",
            " 10  V10     492 non-null    float64\n",
            " 11  V11     492 non-null    float64\n",
            " 12  V12     492 non-null    float64\n",
            " 13  V13     492 non-null    float64\n",
            " 14  V14     492 non-null    float64\n",
            " 15  V15     492 non-null    float64\n",
            " 16  V16     492 non-null    float64\n",
            " 17  V17     492 non-null    float64\n",
            " 18  V18     492 non-null    float64\n",
            " 19  V19     492 non-null    float64\n",
            " 20  V20     492 non-null    float64\n",
            " 21  V21     492 non-null    float64\n",
            " 22  V22     492 non-null    float64\n",
            " 23  V23     492 non-null    float64\n",
            " 24  V24     492 non-null    float64\n",
            " 25  V25     492 non-null    float64\n",
            " 26  V26     492 non-null    float64\n",
            " 27  V27     492 non-null    float64\n",
            " 28  V28     492 non-null    float64\n",
            " 29  Amount  492 non-null    float64\n",
            " 30  Class   492 non-null    int64  \n",
            "dtypes: float64(30), int64(1)\n",
            "memory usage: 123.0 KB\n"
          ]
        }
      ]
    },
    {
      "cell_type": "code",
      "source": [
        "df_non_fraud.info()"
      ],
      "metadata": {
        "id": "0a3oG7zLmEyr",
        "outputId": "c0285b60-3cfb-47d1-d8ec-7079090e56de",
        "colab": {
          "base_uri": "https://localhost:8080/"
        }
      },
      "execution_count": 79,
      "outputs": [
        {
          "output_type": "stream",
          "name": "stdout",
          "text": [
            "<class 'pandas.core.frame.DataFrame'>\n",
            "Int64Index: 284315 entries, 0 to 284806\n",
            "Data columns (total 31 columns):\n",
            " #   Column  Non-Null Count   Dtype  \n",
            "---  ------  --------------   -----  \n",
            " 0   Time    284315 non-null  float64\n",
            " 1   V1      284315 non-null  float64\n",
            " 2   V2      284315 non-null  float64\n",
            " 3   V3      284315 non-null  float64\n",
            " 4   V4      284315 non-null  float64\n",
            " 5   V5      284315 non-null  float64\n",
            " 6   V6      284315 non-null  float64\n",
            " 7   V7      284315 non-null  float64\n",
            " 8   V8      284315 non-null  float64\n",
            " 9   V9      284315 non-null  float64\n",
            " 10  V10     284315 non-null  float64\n",
            " 11  V11     284315 non-null  float64\n",
            " 12  V12     284315 non-null  float64\n",
            " 13  V13     284315 non-null  float64\n",
            " 14  V14     284315 non-null  float64\n",
            " 15  V15     284315 non-null  float64\n",
            " 16  V16     284315 non-null  float64\n",
            " 17  V17     284315 non-null  float64\n",
            " 18  V18     284315 non-null  float64\n",
            " 19  V19     284315 non-null  float64\n",
            " 20  V20     284315 non-null  float64\n",
            " 21  V21     284315 non-null  float64\n",
            " 22  V22     284315 non-null  float64\n",
            " 23  V23     284315 non-null  float64\n",
            " 24  V24     284315 non-null  float64\n",
            " 25  V25     284315 non-null  float64\n",
            " 26  V26     284315 non-null  float64\n",
            " 27  V27     284315 non-null  float64\n",
            " 28  V28     284315 non-null  float64\n",
            " 29  Amount  284315 non-null  float64\n",
            " 30  Class   284315 non-null  int64  \n",
            "dtypes: float64(30), int64(1)\n",
            "memory usage: 69.4 MB\n"
          ]
        }
      ]
    },
    {
      "cell_type": "code",
      "source": [
        "#Data Balancing\n",
        "df_non_fraud=df_non_fraud.sample(n =492 )\n",
        "df_non_fraud.head()\n",
        "df_non_fraud.shape\n",
        "df_non_fraud.info()\n",
        "\n",
        "# New Balanced data set with frand and genuine txns \n",
        "dfb=df_non_fraud.append(df_fraud)\n",
        "dfb.shape"
      ],
      "metadata": {
        "id": "Gav1ZQWgm5F6",
        "outputId": "044679a4-5089-4d6a-8bfb-72512b71ae09",
        "colab": {
          "base_uri": "https://localhost:8080/"
        }
      },
      "execution_count": 80,
      "outputs": [
        {
          "output_type": "stream",
          "name": "stdout",
          "text": [
            "<class 'pandas.core.frame.DataFrame'>\n",
            "Int64Index: 492 entries, 43577 to 163850\n",
            "Data columns (total 31 columns):\n",
            " #   Column  Non-Null Count  Dtype  \n",
            "---  ------  --------------  -----  \n",
            " 0   Time    492 non-null    float64\n",
            " 1   V1      492 non-null    float64\n",
            " 2   V2      492 non-null    float64\n",
            " 3   V3      492 non-null    float64\n",
            " 4   V4      492 non-null    float64\n",
            " 5   V5      492 non-null    float64\n",
            " 6   V6      492 non-null    float64\n",
            " 7   V7      492 non-null    float64\n",
            " 8   V8      492 non-null    float64\n",
            " 9   V9      492 non-null    float64\n",
            " 10  V10     492 non-null    float64\n",
            " 11  V11     492 non-null    float64\n",
            " 12  V12     492 non-null    float64\n",
            " 13  V13     492 non-null    float64\n",
            " 14  V14     492 non-null    float64\n",
            " 15  V15     492 non-null    float64\n",
            " 16  V16     492 non-null    float64\n",
            " 17  V17     492 non-null    float64\n",
            " 18  V18     492 non-null    float64\n",
            " 19  V19     492 non-null    float64\n",
            " 20  V20     492 non-null    float64\n",
            " 21  V21     492 non-null    float64\n",
            " 22  V22     492 non-null    float64\n",
            " 23  V23     492 non-null    float64\n",
            " 24  V24     492 non-null    float64\n",
            " 25  V25     492 non-null    float64\n",
            " 26  V26     492 non-null    float64\n",
            " 27  V27     492 non-null    float64\n",
            " 28  V28     492 non-null    float64\n",
            " 29  Amount  492 non-null    float64\n",
            " 30  Class   492 non-null    int64  \n",
            "dtypes: float64(30), int64(1)\n",
            "memory usage: 123.0 KB\n"
          ]
        },
        {
          "output_type": "execute_result",
          "data": {
            "text/plain": [
              "(984, 31)"
            ]
          },
          "metadata": {},
          "execution_count": 80
        }
      ]
    },
    {
      "cell_type": "markdown",
      "source": [
        "# ***Models without outliers with balanced dataset***"
      ],
      "metadata": {
        "id": "9rMKSQxnOELC"
      }
    },
    {
      "cell_type": "code",
      "source": [
        "dfb.info()"
      ],
      "metadata": {
        "id": "1UsOLHvdSzUm",
        "colab": {
          "base_uri": "https://localhost:8080/"
        },
        "outputId": "da8f9739-cf11-4b73-b617-ca6e1567e45c"
      },
      "execution_count": 81,
      "outputs": [
        {
          "output_type": "stream",
          "name": "stdout",
          "text": [
            "<class 'pandas.core.frame.DataFrame'>\n",
            "Int64Index: 984 entries, 43577 to 281674\n",
            "Data columns (total 31 columns):\n",
            " #   Column  Non-Null Count  Dtype  \n",
            "---  ------  --------------  -----  \n",
            " 0   Time    984 non-null    float64\n",
            " 1   V1      984 non-null    float64\n",
            " 2   V2      984 non-null    float64\n",
            " 3   V3      984 non-null    float64\n",
            " 4   V4      984 non-null    float64\n",
            " 5   V5      984 non-null    float64\n",
            " 6   V6      984 non-null    float64\n",
            " 7   V7      984 non-null    float64\n",
            " 8   V8      984 non-null    float64\n",
            " 9   V9      984 non-null    float64\n",
            " 10  V10     984 non-null    float64\n",
            " 11  V11     984 non-null    float64\n",
            " 12  V12     984 non-null    float64\n",
            " 13  V13     984 non-null    float64\n",
            " 14  V14     984 non-null    float64\n",
            " 15  V15     984 non-null    float64\n",
            " 16  V16     984 non-null    float64\n",
            " 17  V17     984 non-null    float64\n",
            " 18  V18     984 non-null    float64\n",
            " 19  V19     984 non-null    float64\n",
            " 20  V20     984 non-null    float64\n",
            " 21  V21     984 non-null    float64\n",
            " 22  V22     984 non-null    float64\n",
            " 23  V23     984 non-null    float64\n",
            " 24  V24     984 non-null    float64\n",
            " 25  V25     984 non-null    float64\n",
            " 26  V26     984 non-null    float64\n",
            " 27  V27     984 non-null    float64\n",
            " 28  V28     984 non-null    float64\n",
            " 29  Amount  984 non-null    float64\n",
            " 30  Class   984 non-null    int64  \n",
            "dtypes: float64(30), int64(1)\n",
            "memory usage: 246.0 KB\n"
          ]
        }
      ]
    },
    {
      "cell_type": "code",
      "source": [
        "X = dfb.iloc[:, :-1]\n",
        "y = dfb.iloc[:, -1]\n",
        " \n",
        "# split the dataset\n",
        "X_train, X_test, y_train, y_test = train_test_split(\n",
        "    X, y, test_size=0.20, random_state=0)"
      ],
      "metadata": {
        "id": "MgNsbe5oTT3P"
      },
      "execution_count": 82,
      "outputs": []
    },
    {
      "cell_type": "code",
      "source": [
        "X_train.shape"
      ],
      "metadata": {
        "id": "ITp7R3cTThLd",
        "colab": {
          "base_uri": "https://localhost:8080/"
        },
        "outputId": "988fd652-9bdf-4959-9874-bfa04b10e123"
      },
      "execution_count": 83,
      "outputs": [
        {
          "output_type": "execute_result",
          "data": {
            "text/plain": [
              "(787, 30)"
            ]
          },
          "metadata": {},
          "execution_count": 83
        }
      ]
    },
    {
      "cell_type": "code",
      "source": [
        "y_train.shape"
      ],
      "metadata": {
        "id": "XyK0AnP9Ti1v",
        "colab": {
          "base_uri": "https://localhost:8080/"
        },
        "outputId": "b474e838-11b2-42f1-c410-eca720b35d9a"
      },
      "execution_count": 84,
      "outputs": [
        {
          "output_type": "execute_result",
          "data": {
            "text/plain": [
              "(787,)"
            ]
          },
          "metadata": {},
          "execution_count": 84
        }
      ]
    },
    {
      "cell_type": "code",
      "source": [
        "y_test"
      ],
      "metadata": {
        "id": "1lzdJ3L9Tuw0",
        "colab": {
          "base_uri": "https://localhost:8080/"
        },
        "outputId": "e1c6523e-960c-420d-c7c6-38a70b723786"
      },
      "execution_count": 85,
      "outputs": [
        {
          "output_type": "execute_result",
          "data": {
            "text/plain": [
              "152821    0\n",
              "8842      1\n",
              "263639    0\n",
              "44223     1\n",
              "241254    1\n",
              "         ..\n",
              "104505    0\n",
              "263324    1\n",
              "268098    0\n",
              "55401     1\n",
              "203700    1\n",
              "Name: Class, Length: 197, dtype: int64"
            ]
          },
          "metadata": {},
          "execution_count": 85
        }
      ]
    },
    {
      "cell_type": "markdown",
      "source": [
        "# ***Logistic Regression***"
      ],
      "metadata": {
        "id": "RlWgpsGfUVlM"
      }
    },
    {
      "cell_type": "code",
      "source": [
        "from sklearn.linear_model import LogisticRegression\n",
        "classifier = LogisticRegression()\n",
        "classifier.fit(X_train, y_train)   "
      ],
      "metadata": {
        "id": "f9mc4wq2UKpM",
        "colab": {
          "base_uri": "https://localhost:8080/"
        },
        "outputId": "dd36dfe8-4413-4d2d-f982-e44dc373bf92"
      },
      "execution_count": 86,
      "outputs": [
        {
          "output_type": "execute_result",
          "data": {
            "text/plain": [
              "LogisticRegression()"
            ]
          },
          "metadata": {},
          "execution_count": 86
        }
      ]
    },
    {
      "cell_type": "code",
      "source": [
        "print(classifier.intercept_, classifier.coef_)"
      ],
      "metadata": {
        "id": "kiCfK74fUcFh",
        "colab": {
          "base_uri": "https://localhost:8080/"
        },
        "outputId": "2f695868-c6c0-4731-fd4f-e5cdd74e9831"
      },
      "execution_count": 87,
      "outputs": [
        {
          "output_type": "stream",
          "name": "stdout",
          "text": [
            "[-0.4159401] [[-3.01983906e-05  2.52348819e-01 -1.22482187e-01 -5.87266678e-01\n",
            "   7.43344064e-01  2.75794828e-01 -2.53785657e-01  1.47148053e-01\n",
            "  -3.45998798e-01 -5.86184405e-02 -1.96717841e-01  3.05425829e-02\n",
            "  -2.78518862e-01 -1.46012241e-01 -1.00261194e+00 -3.06743470e-01\n",
            "  -3.00415383e-01 -2.25986756e-01 -2.67299611e-02 -5.04579399e-02\n",
            "  -5.70110683e-02  2.33472263e-01  2.63168334e-01  1.80003990e-02\n",
            "   5.99015120e-02 -2.65965059e-01  1.69703881e-02  4.21536462e-02\n",
            "   6.76570686e-03  9.08183102e-04]]\n"
          ]
        }
      ]
    },
    {
      "cell_type": "code",
      "source": [
        "pred = classifier.predict(X_train)"
      ],
      "metadata": {
        "id": "gV-WZDxvUeSV"
      },
      "execution_count": 88,
      "outputs": []
    },
    {
      "cell_type": "code",
      "source": [
        "print ('Accuracy from sk-learn: {}'.format(classifier.score(X_train,y_train)))"
      ],
      "metadata": {
        "id": "W4UyT5x_UinH",
        "colab": {
          "base_uri": "https://localhost:8080/"
        },
        "outputId": "5f6e1af9-584c-48d3-9ce2-8290c920fd03"
      },
      "execution_count": 89,
      "outputs": [
        {
          "output_type": "stream",
          "name": "stdout",
          "text": [
            "Accuracy from sk-learn: 0.9440914866581956\n"
          ]
        }
      ]
    },
    {
      "cell_type": "code",
      "source": [
        "from sklearn.metrics import confusion_matrix"
      ],
      "metadata": {
        "id": "XvLJ38U-Hn49"
      },
      "execution_count": 90,
      "outputs": []
    },
    {
      "cell_type": "code",
      "source": [
        "pred_b = classifier.predict(X_test)"
      ],
      "metadata": {
        "id": "5cNXOzkRIQdG"
      },
      "execution_count": 91,
      "outputs": []
    },
    {
      "cell_type": "code",
      "source": [
        "report= classification_report(y_test,pred_b)\n",
        "print(report)"
      ],
      "metadata": {
        "id": "X0oqzCjtISlD",
        "outputId": "e51eb12b-6964-48b4-9987-54fd14365137",
        "colab": {
          "base_uri": "https://localhost:8080/"
        }
      },
      "execution_count": 92,
      "outputs": [
        {
          "output_type": "stream",
          "name": "stdout",
          "text": [
            "              precision    recall  f1-score   support\n",
            "\n",
            "           0       0.90      0.93      0.92        91\n",
            "           1       0.94      0.92      0.93       106\n",
            "\n",
            "    accuracy                           0.92       197\n",
            "   macro avg       0.92      0.92      0.92       197\n",
            "weighted avg       0.92      0.92      0.92       197\n",
            "\n"
          ]
        }
      ]
    },
    {
      "cell_type": "code",
      "source": [
        "import sklearn.metrics as metrics\n",
        "confusion_matrix = metrics.confusion_matrix(y_test, pred_b)\n"
      ],
      "metadata": {
        "id": "J11NrEwFt_Lk"
      },
      "execution_count": 93,
      "outputs": []
    },
    {
      "cell_type": "code",
      "source": [
        "cm_display = metrics.ConfusionMatrixDisplay(confusion_matrix = confusion_matrix, display_labels = [False, True])"
      ],
      "metadata": {
        "id": "ZwZkrk50t7Tk"
      },
      "execution_count": 94,
      "outputs": []
    },
    {
      "cell_type": "code",
      "source": [
        "cm_display.plot()\n",
        "plt.show()"
      ],
      "metadata": {
        "id": "ybbuybkFojr2",
        "colab": {
          "base_uri": "https://localhost:8080/",
          "height": 561
        },
        "outputId": "3fd8f5ab-ff9f-499c-8059-cba1666f6009"
      },
      "execution_count": 95,
      "outputs": [
        {
          "output_type": "display_data",
          "data": {
            "text/plain": [
              "<Figure size 921.6x633.6 with 2 Axes>"
            ],
            "image/png": "[encoded data removed]"
          },
          "metadata": {
            "needs_background": "light"
          }
        }
      ]
    },
    {
      "cell_type": "markdown",
      "source": [
        "# ***K - Nearest Neighbour***"
      ],
      "metadata": {
        "id": "QS6l1-JqkynE"
      }
    },
    {
      "cell_type": "code",
      "source": [
        "classifier=KNeighborsClassifier()"
      ],
      "metadata": {
        "id": "K6gvQGwXu6mG"
      },
      "execution_count": 96,
      "outputs": []
    },
    {
      "cell_type": "code",
      "source": [
        "classifier.fit(X_train, y_train)   "
      ],
      "metadata": {
        "colab": {
          "base_uri": "https://localhost:8080/"
        },
        "id": "PoeHWFoxvBnZ",
        "outputId": "09d0e5d3-35dd-42f9-f996-2ea53faf7a4c"
      },
      "execution_count": 97,
      "outputs": [
        {
          "output_type": "execute_result",
          "data": {
            "text/plain": [
              "KNeighborsClassifier()"
            ]
          },
          "metadata": {},
          "execution_count": 97
        }
      ]
    },
    {
      "cell_type": "code",
      "source": [
        "pred = classifier.predict(X_train)"
      ],
      "metadata": {
        "id": "8uHS4O7MvG2p"
      },
      "execution_count": 98,
      "outputs": []
    },
    {
      "cell_type": "code",
      "source": [
        "print ('Accuracy from sk-learn: {}'.format(classifier.score(X_train,y_train)))\n"
      ],
      "metadata": {
        "colab": {
          "base_uri": "https://localhost:8080/"
        },
        "id": "zwF5hTSAvWMg",
        "outputId": "0f13c86b-f534-48e3-d113-229a3a683c71"
      },
      "execution_count": 99,
      "outputs": [
        {
          "output_type": "stream",
          "name": "stdout",
          "text": [
            "Accuracy from sk-learn: 0.7534942820838628\n"
          ]
        }
      ]
    },
    {
      "cell_type": "code",
      "source": [
        "pred_b = classifier.predict(X_test)"
      ],
      "metadata": {
        "id": "WkpFToGdyK0A"
      },
      "execution_count": 100,
      "outputs": []
    },
    {
      "cell_type": "code",
      "source": [
        "report= classification_report(y_test,pred_b)\n",
        "print(report)"
      ],
      "metadata": {
        "colab": {
          "base_uri": "https://localhost:8080/"
        },
        "id": "ePHbcJUSyPju",
        "outputId": "10c957ad-86b6-46ab-d506-67199c512fb2"
      },
      "execution_count": 101,
      "outputs": [
        {
          "output_type": "stream",
          "name": "stdout",
          "text": [
            "              precision    recall  f1-score   support\n",
            "\n",
            "           0       0.58      0.65      0.61        91\n",
            "           1       0.66      0.59      0.63       106\n",
            "\n",
            "    accuracy                           0.62       197\n",
            "   macro avg       0.62      0.62      0.62       197\n",
            "weighted avg       0.62      0.62      0.62       197\n",
            "\n"
          ]
        }
      ]
    },
    {
      "cell_type": "code",
      "source": [
        "confusion_matrix = metrics.confusion_matrix(y_test, pred_b)"
      ],
      "metadata": {
        "id": "2U6Eb3CNz-qD"
      },
      "execution_count": 102,
      "outputs": []
    },
    {
      "cell_type": "code",
      "source": [
        "cm_display = metrics.ConfusionMatrixDisplay(confusion_matrix = confusion_matrix, display_labels = [False, True])"
      ],
      "metadata": {
        "id": "FJke8Jyb0AYL"
      },
      "execution_count": 103,
      "outputs": []
    },
    {
      "cell_type": "code",
      "source": [
        "cm_display.plot()\n",
        "plt.show()"
      ],
      "metadata": {
        "colab": {
          "base_uri": "https://localhost:8080/",
          "height": 561
        },
        "id": "C9AEOfV70Drh",
        "outputId": "cbb15efa-e202-44e9-c3fb-80a4376db588"
      },
      "execution_count": 104,
      "outputs": [
        {
          "output_type": "display_data",
          "data": {
            "text/plain": [
              "<Figure size 921.6x633.6 with 2 Axes>"
            ],
            "image/png": "[encoded data removed]"
          },
          "metadata": {
            "needs_background": "light"
          }
        }
      ]
    },
    {
      "cell_type": "markdown",
      "source": [
        "# ***Support Vector Machine***"
      ],
      "metadata": {
        "id": "k7sqjgXimzRj"
      }
    },
    {
      "cell_type": "code",
      "source": [
        "classifier=SVC()"
      ],
      "metadata": {
        "id": "aiHY12Rj0UnS"
      },
      "execution_count": 105,
      "outputs": []
    },
    {
      "cell_type": "code",
      "source": [
        "classifier.fit(X_train, y_train)   "
      ],
      "metadata": {
        "colab": {
          "base_uri": "https://localhost:8080/"
        },
        "id": "AfWgKE620YQh",
        "outputId": "ad4141c9-991a-4fea-9b25-8bb4c124df90"
      },
      "execution_count": 106,
      "outputs": [
        {
          "output_type": "execute_result",
          "data": {
            "text/plain": [
              "SVC()"
            ]
          },
          "metadata": {},
          "execution_count": 106
        }
      ]
    },
    {
      "cell_type": "code",
      "source": [
        "pred = classifier.predict(X_train)"
      ],
      "metadata": {
        "id": "Fds3B3Tx0a9r"
      },
      "execution_count": 107,
      "outputs": []
    },
    {
      "cell_type": "code",
      "source": [
        "print ('Accuracy from sk-learn: {}'.format(classifier.score(X_train,y_train)))"
      ],
      "metadata": {
        "colab": {
          "base_uri": "https://localhost:8080/"
        },
        "id": "LwrOAMHt0deR",
        "outputId": "19bf1682-670f-44e3-a0c5-d8def033298f"
      },
      "execution_count": 108,
      "outputs": [
        {
          "output_type": "stream",
          "name": "stdout",
          "text": [
            "Accuracy from sk-learn: 0.5260482846251588\n"
          ]
        }
      ]
    },
    {
      "cell_type": "code",
      "source": [
        "pred_b = classifier.predict(X_test)"
      ],
      "metadata": {
        "id": "lI9AwDrj2m94"
      },
      "execution_count": 109,
      "outputs": []
    },
    {
      "cell_type": "code",
      "source": [
        "report= classification_report(y_test,pred_b)\n",
        "print(report)"
      ],
      "metadata": {
        "colab": {
          "base_uri": "https://localhost:8080/"
        },
        "id": "Z_BlTjoN2ofp",
        "outputId": "ccd601a3-b2f1-4c2f-98ca-c7a0a1a0f4eb"
      },
      "execution_count": 110,
      "outputs": [
        {
          "output_type": "stream",
          "name": "stdout",
          "text": [
            "              precision    recall  f1-score   support\n",
            "\n",
            "           0       0.53      0.54      0.53        91\n",
            "           1       0.60      0.58      0.59       106\n",
            "\n",
            "    accuracy                           0.56       197\n",
            "   macro avg       0.56      0.56      0.56       197\n",
            "weighted avg       0.56      0.56      0.56       197\n",
            "\n"
          ]
        }
      ]
    },
    {
      "cell_type": "code",
      "source": [
        "confusion_matrix = metrics.confusion_matrix(y_test, pred_b)"
      ],
      "metadata": {
        "id": "EuBOsM2M24ow"
      },
      "execution_count": 111,
      "outputs": []
    },
    {
      "cell_type": "code",
      "source": [
        "cm_display = metrics.ConfusionMatrixDisplay(confusion_matrix = confusion_matrix, display_labels = [False, True])"
      ],
      "metadata": {
        "id": "5hFgmjOd26kp"
      },
      "execution_count": 112,
      "outputs": []
    },
    {
      "cell_type": "code",
      "source": [
        "cm_display.plot()\n",
        "plt.show()"
      ],
      "metadata": {
        "colab": {
          "base_uri": "https://localhost:8080/",
          "height": 561
        },
        "id": "eKPDhr_y28mX",
        "outputId": "ae5052ac-e010-431f-fa43-66564cdf0535"
      },
      "execution_count": 113,
      "outputs": [
        {
          "output_type": "display_data",
          "data": {
            "text/plain": [
              "<Figure size 921.6x633.6 with 2 Axes>"
            ],
            "image/png": "[encoded data removed]"
          },
          "metadata": {
            "needs_background": "light"
          }
        }
      ]
    },
    {
      "cell_type": "markdown",
      "source": [
        "# **Decision Tree Classifier**"
      ],
      "metadata": {
        "id": "4TuI_PoI2-8n"
      }
    },
    {
      "cell_type": "code",
      "source": [
        "classifier=DecisionTreeClassifier()"
      ],
      "metadata": {
        "id": "Anct80mt3DAS"
      },
      "execution_count": 114,
      "outputs": []
    },
    {
      "cell_type": "code",
      "source": [
        "classifier.fit(X_train, y_train) "
      ],
      "metadata": {
        "colab": {
          "base_uri": "https://localhost:8080/"
        },
        "id": "kYLg7Ga33PzG",
        "outputId": "c9929058-613c-4cf9-9b05-512d178ea015"
      },
      "execution_count": 115,
      "outputs": [
        {
          "output_type": "execute_result",
          "data": {
            "text/plain": [
              "DecisionTreeClassifier()"
            ]
          },
          "metadata": {},
          "execution_count": 115
        }
      ]
    },
    {
      "cell_type": "code",
      "source": [
        "pred = classifier.predict(X_train)"
      ],
      "metadata": {
        "id": "DNEqj4vj3Rqi"
      },
      "execution_count": 116,
      "outputs": []
    },
    {
      "cell_type": "code",
      "source": [
        "print ('Accuracy from sk-learn: {}'.format(classifier.score(X_train,y_train)))"
      ],
      "metadata": {
        "colab": {
          "base_uri": "https://localhost:8080/"
        },
        "id": "rS209LsR3Uvn",
        "outputId": "03a418bc-1ec3-4364-be40-0fb13da756aa"
      },
      "execution_count": 117,
      "outputs": [
        {
          "output_type": "stream",
          "name": "stdout",
          "text": [
            "Accuracy from sk-learn: 1.0\n"
          ]
        }
      ]
    },
    {
      "cell_type": "code",
      "source": [
        "# print('Accuracy from DecisionTreeClassifier for training : 0.89')"
      ],
      "metadata": {
        "id": "AQ6pxJXp3XAB"
      },
      "execution_count": 118,
      "outputs": []
    },
    {
      "cell_type": "code",
      "source": [
        "pred_b = classifier.predict(X_test)"
      ],
      "metadata": {
        "id": "LoGDliAq3kql"
      },
      "execution_count": 119,
      "outputs": []
    },
    {
      "cell_type": "code",
      "source": [
        "report= classification_report(y_test,pred_b)\n",
        "print(report)"
      ],
      "metadata": {
        "colab": {
          "base_uri": "https://localhost:8080/"
        },
        "id": "tGyxVcxC3mIy",
        "outputId": "b068dedf-0ea8-4059-e0aa-2ef97a5c1611"
      },
      "execution_count": 120,
      "outputs": [
        {
          "output_type": "stream",
          "name": "stdout",
          "text": [
            "              precision    recall  f1-score   support\n",
            "\n",
            "           0       0.91      0.89      0.90        91\n",
            "           1       0.91      0.92      0.92       106\n",
            "\n",
            "    accuracy                           0.91       197\n",
            "   macro avg       0.91      0.91      0.91       197\n",
            "weighted avg       0.91      0.91      0.91       197\n",
            "\n"
          ]
        }
      ]
    },
    {
      "cell_type": "code",
      "source": [
        "cm_display = metrics.ConfusionMatrixDisplay(confusion_matrix = confusion_matrix, display_labels = [False, True])"
      ],
      "metadata": {
        "id": "UasrewPR9I8M"
      },
      "execution_count": 121,
      "outputs": []
    },
    {
      "cell_type": "code",
      "source": [
        "cm_display.plot()\n",
        "plt.show()"
      ],
      "metadata": {
        "colab": {
          "base_uri": "https://localhost:8080/",
          "height": 561
        },
        "id": "S0NY1Tsr9Lo0",
        "outputId": "1cfa6989-c734-4ebf-c6bb-82e3247d2297"
      },
      "execution_count": 122,
      "outputs": [
        {
          "output_type": "display_data",
          "data": {
            "text/plain": [
              "<Figure size 921.6x633.6 with 2 Axes>"
            ],
            "image/png": "[encoded data removed]"
          },
          "metadata": {
            "needs_background": "light"
          }
        }
      ]
    }
  ],
  "metadata": {
    "colab": {
      "provenance": [],
      "collapsed_sections": [
        "U3emlhB3RACh",
        "9rMKSQxnOELC",
        "RlWgpsGfUVlM",
        "QS6l1-JqkynE",
        "k7sqjgXimzRj",
        "4TuI_PoI2-8n"
      ],
      "include_colab_link": true
    },
    "kernelspec": {
      "display_name": "Python 3",
      "name": "python3"
    }
  },
  "nbformat": 4,
  "nbformat_minor": 0
}